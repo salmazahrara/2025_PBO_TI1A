{
  "nbformat": 4,
  "nbformat_minor": 0,
  "metadata": {
    "colab": {
      "provenance": [],
      "authorship_tag": "ABX9TyPvRg7wycwiEKlCKUvhBX40",
      "include_colab_link": true
    },
    "kernelspec": {
      "name": "python3",
      "display_name": "Python 3"
    },
    "language_info": {
      "name": "python"
    }
  },
  "cells": [
    {
      "cell_type": "markdown",
      "metadata": {
        "id": "view-in-github",
        "colab_type": "text"
      },
      "source": [
        "<a href=\"https://colab.research.google.com/github/salmazahrara/2025_PBO_TI1A/blob/main/Jobsheet3_PBO_Salma%20Zahra%20Ramadhani.ipynb\" target=\"_parent\"><img src=\"https://colab.research.google.com/assets/colab-badge.svg\" alt=\"Open In Colab\"/></a>"
      ]
    },
    {
      "cell_type": "markdown",
      "source": [
        "Prakatikum 1\n",
        "Enkapsulasi pada kelas Bank Account"
      ],
      "metadata": {
        "id": "_4HvQHTHs7w9"
      }
    },
    {
      "cell_type": "code",
      "source": [
        "class BankAccount:\n",
        "    def __init__(self, owner, balance):\n",
        "        #atribut dengan double underscore (__) dianggap \"private\" di python\n",
        "        self.__owner = owner\n",
        "        self.__balance = balance\n",
        "    def deposit(self, amount):\n",
        "        \"\"\"Method untuk menambahkan saldo.\"\"\"\n",
        "        if amount > 0:\n",
        "          self.__balance += amount\n",
        "          print(f\"{amount} telah ditambahkan ke akun {self.__owner}.\")\n",
        "        else:\n",
        "          print(\"Jumlah deposit harus lebih dari 0.\")\n",
        "    def withdraw(self, amount):\n",
        "        \"\"\"method untuk menarik saldo.\"\"\"\n",
        "        if amount <= self.__balance:\n",
        "            self.__balance -= amount\n",
        "            print(f\"{amount} telah ditarik dari akun {self.__owner}\")\n",
        "        else:\n",
        "            print(\"Saldo tidak mencukupi.\")\n",
        "\n",
        "    def get_balance(self):\n",
        "        \"\"\"Method untuk mendapatkan informasi saldo terkini.\"\"\"\n",
        "        return self.__balance\n",
        "\n",
        "#contoh penggunaan\n",
        "if __name__ == \"__main__\":\n",
        "    \"\"\"Membuat objek bank account dengan owner \"alice\" san balance awal 1000\"\"\"\n",
        "\n",
        "    alice_account = BankAccount(owner=\"Alice\", balance=1000)\n",
        "\n",
        "    #deposit uang\n",
        "    alice_account.deposit(500)    #berhasil\n",
        "    alice_account.deposit(-100)   #gagal validasi\n",
        "\n",
        "    #withdraw\n",
        "    alice_account.withdraw(300)     #berhasil\n",
        "    alice_account.withdraw(2000)    #gagal (saldo tidak cukup)\n",
        "\n",
        "    #mandapatkan saldo\n",
        "    current_balance = alice_account.get_balance()\n",
        "    print(f\"Saldo terkhir di akun {alice_account._BankAccount__owner} : {current_balance}\")\n",
        "\n",
        "    #mencoba mengakses atribut 'private' langsung (tidak direkomendasikan)\n",
        "    #alice_account.__balance #akan error\n",
        "    #karena python \"mangling\" nama atribut __balance manjadi __BankAccount__balance\n",
        "    #ini adalah salah satu mekanisme enkapsilasi sederhana di python\n"
      ],
      "metadata": {
        "id": "N9oB0x16w03H"
      },
      "execution_count": null,
      "outputs": []
    },
    {
      "cell_type": "markdown",
      "source": [
        "Praktikum 03: Konstruktor dan Destruktor Sederhana"
      ],
      "metadata": {
        "id": "98vG5imCdQmu"
      }
    },
    {
      "cell_type": "code",
      "execution_count": null,
      "metadata": {
        "colab": {
          "base_uri": "https://localhost:8080/"
        },
        "id": "v-sQIyzAXYMu",
        "outputId": "2af41a97-9aaf-4105-b3cd-57536f90655f"
      },
      "outputs": [
        {
          "output_type": "stream",
          "name": "stdout",
          "text": [
            "Program dimulai. \n",
            "\n",
            "konstruktor: Objek 'Demo' telah dibuat.\n",
            "Program sedang berjalan... \n",
            "\n",
            "Destruktor: Objek 'Demo' sedang dihapus.\n",
            "Objek telah dihapus secara eksplisit.\n",
            "\n",
            "program selesai.\n"
          ]
        }
      ],
      "source": [
        "class SimpleExample:\n",
        "    def __init__(self, name):\n",
        "        \"\"\"\n",
        "        Konstruktor: dipanggil saat objek dibuat\n",
        "        menyimpan nilai 'name' mencetak pesan pembuatan onjek.\n",
        "        \"\"\"\n",
        "        self.name = name\n",
        "        print(f\"konstruktor: Objek '{self.name}' telah dibuat.\")\n",
        "\n",
        "    def __del__(self):\n",
        "        \"\"\"\n",
        "        Destuktor: Dipanggil saat objek dihapus.\n",
        "        Mencetak pesan bahwa objek sedang dihapus.\n",
        "        \"\"\"\n",
        "        print(f\"Destruktor: Objek '{self.name}' sedang dihapus.\")\n",
        "\n",
        "def main():\n",
        "    print(\"Program dimulai. \\n\")\n",
        "\n",
        "    #Membuat objek SimpleExample\n",
        "    obj = SimpleExample(\"Demo\")\n",
        "    print(\"Program sedang berjalan... \\n\")\n",
        "\n",
        "    #menghapus objek secara eksplisit\n",
        "    del obj\n",
        "    print(\"Objek telah dihapus secara eksplisit.\\n\")\n",
        "    print(\"program selesai.\")\n",
        "\n",
        "if __name__ == \"__main__\":\n",
        "    main()"
      ]
    },
    {
      "cell_type": "markdown",
      "source": [
        "Praktikum 02: Enkapsulasi pada kelas employee"
      ],
      "metadata": {
        "id": "4DnzgcZPngzS"
      }
    },
    {
      "cell_type": "code",
      "source": [
        "class Employee:\n",
        "    def __init__(self, name, salary):\n",
        "        #atribut prival dengan double underscore\n",
        "        self.__name = name\n",
        "        self.__salary = salary\n",
        "    def update_salary(self, increase):\n",
        "        \"\"\"Method untuk menaikkan gaji dengan validasi.\"\"\"\n",
        "        if increase > 0:\n",
        "            self.__salary += increase\n",
        "            print(f\"Gaji telah dinaikkan sebesar {increase}.\")\n",
        "        else:\n",
        "            print(\"Nilai kenaikkan harus lebih dari 0.\")\n",
        "    def set_salary(self, new_salary):\n",
        "        \"\"\"Method untuk mengubah gaji dengan validasi.\"\"\"\n",
        "        if new_salary >= 0:\n",
        "            self.__salary = new_salary\n",
        "            print(f\"Gaji diatur ulang menjadi {new_salary}.\")\n",
        "        else:\n",
        "            print(\"gaji tidak dapat bernilai negatif.\")\n",
        "\n",
        "    def get_salary(self):\n",
        "        \"\"\"Method untuk mendapatkan informasi gaji.\"\"\"\n",
        "        return self.__salary\n",
        "    def get_employee_info(self):\n",
        "        \"\"\"Methhod unruk menampilkan informasi karyawan secara menyeluruh.\"\"\"\n",
        "        return f\"Employee: {self.__name}, Gaji: {self.__salary}\"\n",
        "\n",
        "        #contoh penggunaan\n",
        "if __name__ == \"__main__\":\n",
        "    #membuat objek Employee dengan nama \"John Doe\" dan gaji awal 50000\n",
        "    employeel = Employee(\"John Doe\", 50000)\n",
        "\n",
        "    #Tampilkan informasi Karyawan\n",
        "    print(employeel.get_employee_info())\n",
        "\n",
        "    #update gaji dengan menaikkan sebesar 5000\n",
        "    employeel.update_salary(5000)\n",
        "    print(f\"Gaji setelah kenaikkan: {employeel.get_salary()}\")\n",
        "\n",
        "    #Atur ulang gaji dengan nilai baru\n",
        "    employeel.set_salary(60000)\n",
        "    print(f\"informasi terbaru: {employeel.get_employee_info()}\")\n",
        "\n",
        "    #mencoba mengakses atribut privat secara langsung (tidak direkomendasikan)\n",
        "    #contoh: print(employeel.__salary) --> ini akan menimbulkan error"
      ],
      "metadata": {
        "colab": {
          "base_uri": "https://localhost:8080/"
        },
        "id": "2XUuBcRus7gc",
        "outputId": "d627cace-d059-4b79-bee5-cab69446605a"
      },
      "execution_count": null,
      "outputs": [
        {
          "output_type": "stream",
          "name": "stdout",
          "text": [
            "Employee: John Doe, Gaji: 50000\n",
            "Gaji telah dinaikkan sebesar 5000.\n",
            "Gaji setelah kenaikkan: 55000\n",
            "Gaji diatur ulang menjadi 60000.\n",
            "informasi terbaru: Employee: John Doe, Gaji: 60000\n"
          ]
        }
      ]
    },
    {
      "cell_type": "markdown",
      "source": [
        "Praktikum 4 Konstruktor dan Destruktor program FilrLogger"
      ],
      "metadata": {
        "id": "UtjS7gEsUn-s"
      }
    },
    {
      "cell_type": "code",
      "source": [
        "class FileLogger:\n",
        "    def __init__(self, filename):\n",
        "        \"\"\"\n",
        "        konstruktor: Membuka file log untuk menulis pesan.\n",
        "        Parameter:\n",
        "            filename: Nama file tempat pesan log akan ditulis.\n",
        "        \"\"\"\n",
        "        self.filename = filename\n",
        "        try:\n",
        "            self.file = open(filename, \"a\") #membuka file dalam mode append\n",
        "            print(f\"File '{filename}' berhasil dibuka  untuk logging.\")\n",
        "        except Exception as e:\n",
        "            print(f\"Gagal membuka file '{filename}': {e}\")\n",
        "    def write_log(self, message):\n",
        "        \"\"\"\n",
        "        Menulis pesan log ke dalam file\n",
        "        Parameter:\n",
        "          - message: Pesan yang akan ditulis ke file.\n",
        "        \"\"\"\n",
        "        self.file.write(message + \"\\n\")\n",
        "        self.file.flush() #mematikan pesan langsung ditulis ke disk\n",
        "        print(f\"Pesan log: '{message}' telah  ditulis.\")\n",
        "\n",
        "    def __del__(self):\n",
        "        \"\"\"\n",
        "        Destruktor: Menutup file log ketika objek dihapus.\n",
        "        \"\"\"\n",
        "        if hasattr(self, \"file\") and not self.file.closed:\n",
        "            self.file.close()\n",
        "            print(f\"File '{self.filename}' telah ditutup\")\n",
        "\n",
        "#contoh penggunaan dalam skenario nyata aplikasi\n",
        "if __name__ == \"__main__\" :\n",
        "    #membuat objek logger untuk file \"applicatioan.log\"\n",
        "    logger = FileLogger(\"application.log\")\n",
        "\n",
        "    #menulis beberapa pesan log selama operasi aplikas\n",
        "    logger.write_log(\"Aplikasi dimulai.\")\n",
        "    logger.write_log(\"Melakukan operasi A...\")\n",
        "    logger.write_log(\"Operasi A Selesai.\")\n",
        "    logger.write_log(\"Aplikasi akan segera selesai\")\n",
        "\n",
        "                  #menghapus onbjek logger secara eksplisit\n",
        "    del logger\n",
        "    #jika objek dihapups secara ekslipsit, desduktor akan dipanggil\n",
        "    #ketika program berakhir dan garbage collection membersihkan objek tersebut."
      ],
      "metadata": {
        "colab": {
          "base_uri": "https://localhost:8080/"
        },
        "id": "7cnQVS5jnjsT",
        "outputId": "67a7b878-e9d4-49fc-b852-1cc82b303418"
      },
      "execution_count": null,
      "outputs": [
        {
          "output_type": "stream",
          "name": "stdout",
          "text": [
            "File 'application.log' berhasil dibuka  untuk logging.\n",
            "Pesan log: 'Aplikasi dimulai.' telah  ditulis.\n",
            "Pesan log: 'Melakukan operasi A...' telah  ditulis.\n",
            "Pesan log: 'Operasi A Selesai.' telah  ditulis.\n",
            "Pesan log: 'Aplikasi akan segera selesai' telah  ditulis.\n",
            "File 'application.log' telah ditutup\n"
          ]
        }
      ]
    },
    {
      "cell_type": "code",
      "source": [
        "Praktikum 5\n",
        "Properti \"self\" pada kelas"
      ],
      "metadata": {
        "id": "Al3Ft0zhp8wC"
      },
      "execution_count": null,
      "outputs": []
    },
    {
      "cell_type": "code",
      "source": [
        "class Calculator:\n",
        "    def __init__(self, initial_value=0):\n",
        "        \"\"\"\n",
        "        Konstruktor kelas Calculator.\n",
        "        - self:mengacu pada instance yang dibuat.\n",
        "        - initial_value: nilai awal dari kalkulator.\n",
        "        \"\"\"\n",
        "        self.value = initial_value\n",
        "        print(f\"Kalkulator diinisialisasi dengan nilai: {self.value}\")\n",
        "    def add(self, number):\n",
        "        \"\"\"\n",
        "        menambahkan 'number' ke nilai yang tersimpan di objek.\n",
        "        - self.value: menunjukkan nilai saat ini yang disimpan di objek tersebut.\n",
        "        - number: nilai yang ditambahkan.\n",
        "        \"\"\"\n",
        "        self.value += number\n",
        "        print(f\"Setelah penambahan {number}, nilai sekarang adalah : {self.value}\")\n",
        "\n",
        "    def subtract(self, number):\n",
        "        \"\"\"\n",
        "        Mengurangi 'number' dari nilai yang tersimpan.\n",
        "        -self.valule: nilai saat ini dalam objek\n",
        "        - number: nilai yang akan dikurangkan\n",
        "        \"\"\"\n",
        "        self.value  -= number\n",
        "        print(f\"Setelah pengurangan {number}, nilai sekarang adalah: {self.value}\")\n",
        "\n",
        "    def reset(self):\n",
        "        \"\"\"\n",
        "        Mengatur ulang nilai kalkulator ke 0.\n",
        "        \"\"\"\n",
        "        self.value = 0\n",
        "        print(\"nilai telah direset ke 0.\")\n",
        "\n",
        "    def show_value(self):\n",
        "        \"\"\"\n",
        "        Menampilkan nilai saat inni dari kalkulator.\n",
        "        \"\"\"\n",
        "        print(f\" Nilai saat ini adalah : {self.value}\")\n",
        "\n",
        "#contoh penggunaan untuk memahami peran self\n",
        "def main():\n",
        "    #Membuat objek calculator udengan nilai awal 10\n",
        "    calc1 = Calculator(initial_value=10)\n",
        "\n",
        "    #menggunakan metode dari objek calcl\n",
        "    calc1.add(5)        #Menambahkan 5 ke nilai cac1\n",
        "    calc1.subtract(3)   #mengurangi 3 dari nilai calc1\n",
        "    calc1.show_value()  #menampilkan nilai calc1\n",
        "\n",
        "    #membuat objek kalkylator lainnya dengan nilai awal default (0)\n",
        "    calc2 = Calculator()\n",
        "    calc2.add(20)     #menambahkan 20 ke nilai calc2\n",
        "    calc2.show_value()#menampilkan nilai calc2\n",
        "\n",
        "    #penjelasan peran self\n",
        "    #'self; memungkinkan setiap instance(calcl, calc2) memiliki atribut'value' masing-masing\n",
        "    #perubahan yang diklakukan pada calc1 tidak akan mempengaruhi calc2. karena masing-masing\n",
        "    # mengacu pafa self yang berbeda (instance yang berbeda)\n",
        "\n",
        "if __name__ == \"__main__\":\n",
        "    main()"
      ],
      "metadata": {
        "id": "8yL12ja-njWt"
      },
      "execution_count": null,
      "outputs": []
    },
    {
      "cell_type": "markdown",
      "source": [
        "Praktikum 6\n",
        "Menggunakan getter, setter, dekorator @property untuk mengelola akses atribut"
      ],
      "metadata": {
        "id": "PFUtDAGgugza"
      }
    },
    {
      "cell_type": "code",
      "source": [
        "class Person:\n",
        "    def __init__(self, name, age):\n",
        "        \"\"\"\n",
        "        Konstruktor untuk menginisialisasi objek Person dengan nama dan umur\n",
        "      Atribut privat (dengan double underscore) menyimpan data internal.\n",
        "\n",
        "        \"\"\"\n",
        "        self.__name = name\n",
        "        self.__age = age\n",
        "    @property\n",
        "    def name(self):\n",
        "        \"\"\"\n",
        "        Getter untuk atribut name.\n",
        "        Mengembalikan nilai dari __name.\n",
        "        \"\"\"\n",
        "        return self.__name\n",
        "\n",
        "    @name.setter\n",
        "    def name(self, value):\n",
        "        \"\"\"\n",
        "        Setter untuk atribut name.\n",
        "          Memeriksa apakah nilai tidak kosong sebelum mengubah nilai __name.\n",
        "        \"\"\"\n",
        "\n",
        "        if not value:\n",
        "            print(\"nama tidak boleh kosong\")\n",
        "        else:\n",
        "            self.__name = value\n",
        "    @property\n",
        "    def age(self):\n",
        "        \"\"\"\n",
        "        Getter untuk atrobut age.\n",
        "        Mengembalikan nilai dari __age.\n",
        "        \"\"\"\n",
        "        return self.__age\n",
        "\n",
        "    @age.setter\n",
        "    def age(self, value):\n",
        "        \"\"\"\n",
        "        Setter untuk atribut age.\n",
        "        Memeriksa apakah nilai umur tidak negatid sebelum mengubah nilai __age\n",
        "        \"\"\"\n",
        "        if value < 0:\n",
        "            print(\"umur tidak boleh negatif!\")\n",
        "        else:\n",
        "            self.__age = value\n",
        "\n",
        "#contoh penggunaan\n",
        "def main():\n",
        "    #membuat onjek person dengan nama \"alice\" dan umur 30\n",
        "    person = Person(\"Alice\", 30)\n",
        "    print(f\"Nama Baru: {person.name}, Umur: {person.age}\")\n",
        "\n",
        "    #mengubah nama dan umur melalui setter\n",
        "    person.name + \"Bob\"\n",
        "    person.age = 35\n",
        "    print(f\"Nama baru : {person.name}, Umur baru: {person.age}\")\n",
        "\n",
        "    #mencoba menetapkan nilai yang tidak valid unruk umur\n",
        "    person.age = -5 #akan memunculkan pesan error karena validasi umur negatif\n",
        "\n",
        "if __name__ == \"__main__\" :\n",
        "    main()"
      ],
      "metadata": {
        "id": "bitRnikZuhfH",
        "colab": {
          "base_uri": "https://localhost:8080/"
        },
        "outputId": "08c109f1-726d-4320-e68b-9a449810dd63"
      },
      "execution_count": null,
      "outputs": [
        {
          "output_type": "stream",
          "name": "stdout",
          "text": [
            "Nama Baru: Alice, Umur: 30\n",
            "Nama baru : Alice, Umur baru: 35\n",
            "umur tidak boleh negatif!\n"
          ]
        }
      ]
    },
    {
      "cell_type": "code",
      "source": [
        "Penugasan jobsheet 3"
      ],
      "metadata": {
        "id": "IzDsCLzStasB"
      },
      "execution_count": null,
      "outputs": []
    },
    {
      "cell_type": "code",
      "source": [
        "class Student:\n",
        "    def __init__(self, name, score):\n",
        "        self.__name = name\n",
        "        self.__score = 0\n",
        "        self.__grade = \"\"\n",
        "        self.set_score(score)\n",
        "\n",
        "    def set_score(self, new_score):\n",
        "        \"\"\"setter dengan calidasi dan update grade.\"\"\"\n",
        "        if 0 <= new_score <= 100:\n",
        "            self.__score = new_score\n",
        "            self.__update_grade()\n",
        "        else:\n",
        "          print(\"nilai harus berada di antara 0 hingga 100\")\n",
        "\n",
        "    def get_score(self):\n",
        "        \"\"\"getter untuk mendapatkan nilai.\"\"\"\n",
        "        return self.__score\n",
        "        \"\"\"Getter untuk mengambil nilai score.\"\"\"\n",
        "\n",
        "    def get_score(self):\n",
        "        \"\"\"gettr untuk mengambil grade\"\"\"\n",
        "        return self.__grade\n",
        "\n",
        "    def __update_grade(self):\n",
        "        \"\"\"method internal untuk menentukan grade dari score.\"\"\"\n",
        "        if self.__score >= 90:\n",
        "          self.__grade = \"A\"\n",
        "        elif self.__score >=80:\n",
        "          self.__grade =\"B\"\n",
        "        elif self.__score >= 70:\n",
        "          self.__grade = \"C\"\n",
        "        elif self.__score >= 60:\n",
        "          self.__grade =\"D\"\n",
        "        else:\n",
        "          self.__grade =\"E\"\n",
        "\n",
        "    def show_info(self):\n",
        "        \"\"\"tampilkan informasi mahasiswa\"\"\"\n",
        "        print(f\"Nama Mahasiswa : {self.__name}\")\n",
        "        print(f\"nilai : {self.__score}\")\n",
        "        print(f\"grade : {self.__grade}\")\n",
        "\n",
        "    def __del__(self):\n",
        "        print(f\"data mahasiswa {self.__name} telah dihapus dari sistem\")\n",
        "\n",
        "if __name__ == \"__main__\":\n",
        "     s1 = Student(\"Siti\", 87)\n",
        "     s1.show_info()\n",
        "\n",
        "     s2 = Student(\"Budi\", 92)\n",
        "     s2.show_info()\n",
        "     print(\"\\nNilai diubah ...\\n\")\n",
        "     s1.set_score(93)\n",
        "     s1.show_info()\n",
        "\n",
        "del s1"
      ],
      "metadata": {
        "colab": {
          "base_uri": "https://localhost:8080/"
        },
        "id": "S4On-gFFsudQ",
        "outputId": "8c670a41-42f2-455e-e029-ed3f49f12f1f"
      },
      "execution_count": 16,
      "outputs": [
        {
          "output_type": "stream",
          "name": "stdout",
          "text": [
            "Nama Mahasiswa : Siti\n",
            "nilai : 87\n",
            "grade : B\n",
            "Nama Mahasiswa : Budi\n",
            "nilai : 92\n",
            "grade : A\n",
            "\n",
            "Nilai diubah ...\n",
            "\n",
            "Nama Mahasiswa : Siti\n",
            "nilai : 93\n",
            "grade : A\n",
            "data mahasiswa Siti telah dihapus dari sistem\n"
          ]
        }
      ]
    }
  ]
}