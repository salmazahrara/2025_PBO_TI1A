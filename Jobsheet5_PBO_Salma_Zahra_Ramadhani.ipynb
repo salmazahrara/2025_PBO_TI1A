{
  "nbformat": 4,
  "nbformat_minor": 0,
  "metadata": {
    "colab": {
      "provenance": [],
      "authorship_tag": "ABX9TyNQ3nesPzJJA5vEiZhJ8O6X",
      "include_colab_link": true
    },
    "kernelspec": {
      "name": "python3",
      "display_name": "Python 3"
    },
    "language_info": {
      "name": "python"
    }
  },
  "cells": [
    {
      "cell_type": "markdown",
      "metadata": {
        "id": "view-in-github",
        "colab_type": "text"
      },
      "source": [
        "<a href=\"https://colab.research.google.com/github/salmazahrara/2025_PBO_TI1A/blob/main/Jobsheet5_PBO_Salma_Zahra_Ramadhani.ipynb\" target=\"_parent\"><img src=\"https://colab.research.google.com/assets/colab-badge.svg\" alt=\"Open In Colab\"/></a>"
      ]
    },
    {
      "cell_type": "markdown",
      "source": [
        "## Praktikum 01\n"
      ],
      "metadata": {
        "id": "AggLZ87ta7ZA"
      }
    },
    {
      "cell_type": "code",
      "execution_count": null,
      "metadata": {
        "colab": {
          "base_uri": "https://localhost:8080/"
        },
        "id": "Z1USB_kjadST",
        "outputId": "e3d464bd-c8e4-477a-e774-dbab3151334e"
      },
      "outputs": [
        {
          "output_type": "stream",
          "name": "stdout",
          "text": [
            "\n",
            "Aksi Burung:\n",
            "--Aksi untuk Pipit Gereja--\n",
            "Pipit Gereja terbang cepat diantara pepohonan\n",
            "Pipit Gereja berkicau merdu : cit cit !\n",
            "---------------\n",
            "--Aksi untuk Elang Jawa--\n",
            "Elang Jawa terbang tinggi melayang di angkasa\n",
            "Elang Jawa berteriak nyaring!\n",
            "---------------\n",
            "--Aksi untuk Burung Misterius--\n",
            "Burung Misterius terbang dengan cara umum.\n",
            "Burung Misterius mengeluarkan suara burung\n",
            "---------------\n"
          ]
        }
      ],
      "source": [
        "# KElas induk\n",
        "class Burung:\n",
        "    def __init__(self, nama):\n",
        "      self.nama = nama\n",
        "\n",
        "    def terbang(self):\n",
        "      print(f\"{self.nama} terbang dengan cara umum.\")\n",
        "\n",
        "    def bersuara(self):\n",
        "      print(f\"{self.nama} mengeluarkan suara burung\")\n",
        "\n",
        "# Kelas Anak 1\n",
        "class Elang(Burung):\n",
        "    def __init__(self, nama, rentang_sayap):\n",
        "      super().__init__(nama)\n",
        "      self.rentang_sayap = rentang_sayap\n",
        "\n",
        "    # Override\n",
        "    def terbang(self):\n",
        "      print(f\"{self.nama} terbang tinggi melayang di angkasa\")\n",
        "\n",
        "    # Override\n",
        "    def bersuara(self):\n",
        "      print(f\"{self.nama} berteriak nyaring!\")\n",
        "\n",
        "# Kelas Anak 2\n",
        "class Pipit(Burung):\n",
        "    def __init__(self, nama, warna_bulu):\n",
        "      super().__init__(nama)\n",
        "      self.warna_bulu = warna_bulu\n",
        "\n",
        "    # Override\n",
        "    def terbang(self):\n",
        "      print(f\"{self.nama} terbang cepat diantara pepohonan\")\n",
        "\n",
        "    def bersuara(self):\n",
        "      print(f\"{self.nama} berkicau merdu : cit cit !\")\n",
        "\n",
        "# Fungsi yang memanfaatkan polimorfise\n",
        "def demonstrasi_aksi_burung(daftar_burung):\n",
        "    print(\"\\nAksi Burung:\")\n",
        "    for burung in daftar_burung:\n",
        "        print(f\"--Aksi untuk {burung.nama}--\")\n",
        "        # panggilan metode yang sama tapi perilaku berbeda tergantung objek\n",
        "        burung.terbang()\n",
        "        burung.bersuara()\n",
        "        print(\"-\" * 15)\n",
        "# kode utama -----\n",
        "if __name__ == \"__main__\":\n",
        "    elang_jawa =Elang(\"Elang Jawa\", 1.5)\n",
        "    pipit_gereja =Pipit(\"Pipit Gereja\", \"Coklat\")\n",
        "    burung_aneh = Burung(\"Burung Misterius\") #objek dari kelas induk\n",
        "\n",
        "    koleksi_burung ={elang_jawa, pipit_gereja, burung_aneh}\n",
        "    demonstrasi_aksi_burung(koleksi_burung)"
      ]
    },
    {
      "cell_type": "markdown",
      "source": [],
      "metadata": {
        "id": "IrqpFkatbXOm"
      }
    },
    {
      "cell_type": "markdown",
      "source": [
        "## Praktikum 2\n"
      ],
      "metadata": {
        "id": "IehkyhB8CQrL"
      }
    },
    {
      "cell_type": "code",
      "source": [
        "class Kucing:\n",
        "  def bersuara(Self):\n",
        "      print(\"Kucing: Meow!\")\n",
        "class Anjing:\n",
        "  def bersuara(self):\n",
        "      print(\"Anjing: Guk guk!\")\n",
        "\n",
        "class Bebek:\n",
        "  def bersuara(self):\n",
        "      print(\"Bebek: Kwek kwek!\")\n",
        "\n",
        "class Mobil: # kelas ini tidak punya metode bersuara\n",
        "  def jalankan(self):\n",
        "      print(\"Mobil: Beummm!\")\n",
        "\n",
        "# fungsi ini tidak perduli tipe objeknya,\n",
        "# asal punya mmetode .bersuara\n",
        "\n",
        "def buat_suara(objek_yang_bisa_bersuara):\n",
        "  try:\n",
        "      #memanggil metode ' bersuara'\n",
        "      objek_yang_bisa_bersuara.bersuara()\n",
        "  except AttributeError:\n",
        "      #menangani jika objek tidak punya metode 'bersuara'\n",
        "        print(f\"Objek {type(objek_yang_bisa_bersuara).__name__} tidak bisa bersuara\")\n",
        "\n",
        "# Kode Utama\n",
        "if __name__ == \"__main__\":\n",
        "  kucing1 = Kucing()\n",
        "  anjing1 = Anjing()\n",
        "  bebek1 = Bebek()\n",
        "  mobil1 = Mobil()\n",
        "\n",
        "  daftar_objek = [kucing1, anjing1, bebek1, mobil1]\n",
        "\n",
        "  print(\"Demonstrasi Duck Typing:\")\n",
        "  for item in daftar_objek:\n",
        "      buat_suara(item) #fungsi polimorfik via duck typing"
      ],
      "metadata": {
        "colab": {
          "base_uri": "https://localhost:8080/"
        },
        "id": "hJJs-9pWCThE",
        "outputId": "dda7eada-dc3c-47b9-f2be-d850e3099540"
      },
      "execution_count": null,
      "outputs": [
        {
          "output_type": "stream",
          "name": "stdout",
          "text": [
            "Demonstrasi Duck Typing:\n",
            "Kucing: Meow!\n",
            "Anjing: Guk guk!\n",
            "Bebek: Kwek kwek!\n",
            "Objek Mobil tidak bisa bersuara\n"
          ]
        }
      ]
    },
    {
      "cell_type": "markdown",
      "source": [
        "##Praktikum 3 Simulasi overloading dakan netode kelas dengan *args\n"
      ],
      "metadata": {
        "id": "PhQF3Nezj_HJ"
      }
    },
    {
      "cell_type": "code",
      "source": [
        "class KalkulatorSederhana:\n",
        "    def __init__(self, nama=\"Kalkulator\"):\n",
        "        self.nama = nama\n",
        "        print(f\"{self.nama} siap digunakan\")\n",
        "\n",
        "    def tambah(self, *args):\n",
        "        \"\"\"Metode ini menjumlahkan semua argumen angka yang diberikan.\"\"\"\n",
        "        print(f\"\\nMemanggil metode tambah dengan argumen: {args}\")\n",
        "        if not args:\n",
        "            print(\"Tidak ada angka untuk dijumlahkan.\")\n",
        "            return 0  # Atau bisa juga return None atau raise ValueError\n",
        "\n",
        "        total = 0\n",
        "        valid_input = True\n",
        "\n",
        "        for angka in args:\n",
        "            if isinstance(angka, (int, float)):\n",
        "                total += angka\n",
        "            else:\n",
        "                print(f\"Peringatan: Argumen '{angka}' bukan angka dan akan diabaikan.\")\n",
        "                valid_input = False\n",
        "\n",
        "        if valid_input:\n",
        "            print(f\"Hasil penjumlahan: {total}\")\n",
        "        else:\n",
        "            print(f\"Hasil penjumlahan (dengan beberapa input diabaikan): {total}\")\n",
        "\n",
        "        return total\n",
        "\n",
        "\n",
        "# kode utama\n",
        "if __name__ == \"__main__\":\n",
        "    calc = KalkulatorSederhana(\"Calc-01\")\n",
        "\n",
        "    print(\"\\n---Percobaan Penjumlahan---\")\n",
        "    calc.tambah(5, 10)\n",
        "    calc.tambah(2, 3, 5, 10)\n",
        "    calc.tambah(100)\n",
        "    calc.tambah()  # tanpa argumen\n",
        "    calc.tambah(1, 2, \"tiga\", 4, 5.5)  # dengan input non-angka\n"
      ],
      "metadata": {
        "colab": {
          "base_uri": "https://localhost:8080/"
        },
        "id": "Rmp5EE8lkJJ9",
        "outputId": "5f483ebc-08a4-48f6-b70e-76a5f0958951"
      },
      "execution_count": null,
      "outputs": [
        {
          "output_type": "stream",
          "name": "stdout",
          "text": [
            "Calc-01 siap digunakan\n",
            "\n",
            "---Percobaan Penjumlahan---\n",
            "\n",
            "Memanggil metode tambah dengan argumen: (5, 10)\n",
            "Hasil penjumlahan: 15\n",
            "\n",
            "Memanggil metode tambah dengan argumen: (2, 3, 5, 10)\n",
            "Hasil penjumlahan: 20\n",
            "\n",
            "Memanggil metode tambah dengan argumen: (100,)\n",
            "Hasil penjumlahan: 100\n",
            "\n",
            "Memanggil metode tambah dengan argumen: ()\n",
            "Tidak ada angka untuk dijumlahkan.\n",
            "\n",
            "Memanggil metode tambah dengan argumen: (1, 2, 'tiga', 4, 5.5)\n",
            "Peringatan: Argumen 'tiga' bukan angka dan akan diabaikan.\n",
            "Hasil penjumlahan (dengan beberapa input diabaikan): 12.5\n"
          ]
        }
      ]
    },
    {
      "cell_type": "markdown",
      "source": [
        "## Praktikum 04: Simulasi Overloading dalam Metode Kelas dengan *args dan **kwargs"
      ],
      "metadata": {
        "id": "ft-qEyLsdeDy"
      }
    },
    {
      "cell_type": "code",
      "source": [
        "class DataProcessor:\n",
        "  def __init__(self, processor_id):\n",
        "    self.processor_id = processor_id\n",
        "    print(f\"Data Processor {self.processor_id} siap.\")\n",
        "\n",
        "  def process(self, *args, **kwargs):\n",
        "    \"\"\"\n",
        "    Metode ini memproses data dengan argumen posisi (*args)\n",
        "    dan kata kunci (**kwargs) yang jumlahnya variable.\n",
        "    \"\"\"\n",
        "    #memproses argumen posisi (*args ->tuple)\n",
        "    print(f\"\\n ---{self.processor_id} Memproses Data ---\")\n",
        "\n",
        "    #memproses argumen posisi (*args -> tuple)\n",
        "    if args:\n",
        "      print(\"Argumen Posisi Diterima:\")\n",
        "      for i, arg in enumerate(args):\n",
        "        print(f\"args[{i}]: {arg} (tipe:{type(arg).__name__})\")\n",
        "    else:\n",
        "      print(\"Tidak ada argumen posisi.\")\n",
        "\n",
        "    #memproses argumen kaya kunci diterima\n",
        "    if kwargs:\n",
        "      print(\"Argumen Kata Kunci Diterima:\")\n",
        "      for kunci, nilai in kwargs.items():\n",
        "        print(f\"{kunci}: {nilai} (tipe:{type(nilai).__name__})\")\n",
        "\n",
        "    #kode utama\n",
        "if __name__ == \"__main__\":\n",
        "# Membuat instance dari kelas\n",
        "  processor1 = DataProcessor(\"DP-001\")\n",
        "\n",
        "#memanggil metode 'process' dengan berbagai cara\n",
        "  print(\"\\n panggilan 1: Tanpa argumen tambahan\")\n",
        "  processor1.process()\n",
        "\n",
        "  print(\"\\nPanggilan 2: tanpa argumen tambahan\")\n",
        "  processor1.process(100, \"Status OK\", 99.9, False)\n",
        "\n",
        "  print(\"\\nPanggilan 3: Haya argumen posisi\")\n",
        "  processor1.process(user=\"admin\", level=5, mode=\"verbose \")\n",
        "\n",
        "  print(\"\\nPnggilan 3: Hanya argumen kata kunci\")\n",
        "  processor1.process(\"Task-A\", \"Task-B\", status=\"Running\", priority=\"High\", thread_id=54321)\n",
        "\n",
        "  # panggilan dengan list dan dictionary sebagai argumen posisi\n",
        "  print(\"\\nPanggilan 5: Argumen posisi kompleks\")\n",
        "  list_ids = [\"A1\", \"B2\", \"C3\"]\n",
        "  dict_params = {\"timeout\": 30, \"retry\": 3}\n",
        "  processor1.process(list_ids, dict_params, owner=\"system\", enabled=True)"
      ],
      "metadata": {
        "id": "ShhbzBEmM0aA",
        "colab": {
          "base_uri": "https://localhost:8080/"
        },
        "outputId": "3ecb8184-294d-4479-db4d-a717eebca129"
      },
      "execution_count": null,
      "outputs": [
        {
          "output_type": "stream",
          "name": "stdout",
          "text": [
            "Data Processor DP-001 siap.\n",
            "\n",
            " panggilan 1: Tanpa argumen tambahan\n",
            "\n",
            " ---DP-001 Memproses Data ---\n",
            "Tidak ada argumen posisi.\n",
            "\n",
            "Panggilan 2: tanpa argumen tambahan\n",
            "\n",
            " ---DP-001 Memproses Data ---\n",
            "Argumen Posisi Diterima:\n",
            "args[0]: 100 (tipe:int)\n",
            "args[1]: Status OK (tipe:str)\n",
            "args[2]: 99.9 (tipe:float)\n",
            "args[3]: False (tipe:bool)\n",
            "\n",
            "Panggilan 3: Haya argumen posisi\n",
            "\n",
            " ---DP-001 Memproses Data ---\n",
            "Tidak ada argumen posisi.\n",
            "Argumen Kata Kunci Diterima:\n",
            "user: admin (tipe:str)\n",
            "level: 5 (tipe:int)\n",
            "mode: verbose  (tipe:str)\n",
            "\n",
            "Pnggilan 3: Hanya argumen kata kunci\n",
            "\n",
            " ---DP-001 Memproses Data ---\n",
            "Argumen Posisi Diterima:\n",
            "args[0]: Task-A (tipe:str)\n",
            "args[1]: Task-B (tipe:str)\n",
            "Argumen Kata Kunci Diterima:\n",
            "status: Running (tipe:str)\n",
            "priority: High (tipe:str)\n",
            "thread_id: 54321 (tipe:int)\n",
            "\n",
            "Panggilan 5: Argumen posisi kompleks\n",
            "\n",
            " ---DP-001 Memproses Data ---\n",
            "Argumen Posisi Diterima:\n",
            "args[0]: ['A1', 'B2', 'C3'] (tipe:list)\n",
            "args[1]: {'timeout': 30, 'retry': 3} (tipe:dict)\n",
            "Argumen Kata Kunci Diterima:\n",
            "owner: system (tipe:str)\n",
            "enabled: True (tipe:bool)\n"
          ]
        }
      ]
    },
    {
      "cell_type": "markdown",
      "source": [
        "## Praktikum 05: Kombinasi Polimorfisme(inheritande &duck Typing)"
      ],
      "metadata": {
        "id": "zOFg6dLGdYHh"
      }
    },
    {
      "cell_type": "code",
      "source": [
        "import math\n",
        "\n",
        "# --- Definisi KElas dari Hierarki Inheritance\n",
        "class Bentuk:\n",
        "  # Metode ini bisa dianggap sebagai 'template' atau enterface dasar\n",
        "  def nama_bentuk(self):\n",
        "    return \"Bentuk Generik\"\n",
        "  # Metode ini wadib di override oleh subclass\n",
        "  def hitung_luas(self):\n",
        "    raise NotImplementedError(\"Subclass harus mengimplementasikan metode ini\")\n",
        "\n",
        "class Lingkaran(Bentuk):\n",
        "  def __init__(self, radius):\n",
        "    self.radius = radius\n",
        "\n",
        "  # override\n",
        "  def nama_bentuk(self):\n",
        "    return \"Lingkaran\"\n",
        "  # override\n",
        "  def hitung_luas(self):\n",
        "    return math.pi * (self.radius ** 2)\n",
        "\n",
        "class Persegi(Bentuk):\n",
        "  def __init__(self, sisi):\n",
        "    self.sisi = sisi\n",
        "\n",
        "    # override\n",
        "    def nama_bentuk(self):\n",
        "      return \"Persegi\"\n",
        "    # override\n",
        "    def hitung_luas(self):\n",
        "      return self.sisi *self.sisi\n",
        "\n",
        "# definisi kelas lain ---- (tidak terkait inheritance dengan bentuk) ----\n",
        "class TaplakMeja:\n",
        "  def __init__(self, panjang, lebar):\n",
        "    self.panjang = panjang\n",
        "    self.lebar = lebar\n",
        "\n",
        "    # metode dengan nama sama -> 'hitung luas'\n",
        "    # ini menunjukkan taplakMeja bekerja dengan fungsi polimorfik dibawah\n",
        "\n",
        "  def hitung_luas(self):\n",
        "    return self.panjang * self.lebar\n",
        "\n",
        "  # metode yang berbeda, tidak ada di kelas Bentuk\n",
        "  def deskripsi(self):\n",
        "    return f\"Taplak Meja {self.panjang} x {self.lebar}\"\n",
        "\n",
        "# fungsi polimorfik\n",
        "def tampilkan_info_luas(objek_dengan_luas):\n",
        "  print(\"-\" * 20)\n",
        "  try:\n",
        "    # mencoba memanggil hitung_luas() -inti polimorfisme\n",
        "    luas = objek_dengan_luas.hitung_luas()\n",
        "\n",
        "    # MEncoba mendapatkan nama jika ada{duck typing tambahan}\n",
        "    try:\n",
        "      nama = objek_dengan_luas.nama_bentuk()\n",
        "    except AttributeError:\n",
        "      # jika tidak ada nama_bentuk(), digunakan nama kelasnya\n",
        "      nama = type(objek_dengan_luas).__name__\n",
        "      print(f\"Objek: {nama}\")\n",
        "      print(f\"Luas: {luas:.2f}\") #format luas 2 angka desimal\n",
        "  except AttributeError:\n",
        "    # menangani jika objek sama sekali tidak punya .hitung_luas()\n",
        "    print(f\"Objek {type(objek_dengan_luas).__name__}tidak dapat dihitung luasnya (metode tidak ditemukan).\")\n",
        "\n",
        "  except NotImplementedError:\n",
        "     # menangani jika metode ada tapi belum diimplementasikan (dari kelas bentuk)\n",
        "     print(f\"Metode 'hitung_luas' belum diimplementasikan untuk {type(objek_dengan_luas).__name__}.\")\n",
        "\n",
        "# kode utama\n",
        "if __name__ == \"__main__\":\n",
        "  lingkaran1 = Lingkaran(7)\n",
        "  persegi1 = Persegi(5)\n",
        "  taplak1 = TaplakMeja(1.5, 0.8)\n",
        "  bentuk_dasar = Bentuk()\n",
        "  string_biasa = \"Ini string\" #objek yang tidak relevan\n",
        "  daftar_item = [lingkaran1, persegi1, taplak1,bentuk_dasar, string_biasa]\n",
        "\n",
        "  print(\"Menampilkan Info Luas (Polimorfisme Campuran):\")\n",
        "  for item in daftar_item:\n",
        "    tampilkan_info_luas(item)\n",
        "\n",
        "\n"
      ],
      "metadata": {
        "colab": {
          "base_uri": "https://localhost:8080/"
        },
        "id": "GUx9dOWoMo1p",
        "outputId": "066a62fb-cb80-4c81-dea1-133c01f7b1f6"
      },
      "execution_count": null,
      "outputs": [
        {
          "output_type": "stream",
          "name": "stdout",
          "text": [
            "Menampilkan Info Luas (Polimorfisme Campuran):\n",
            "--------------------\n",
            "--------------------\n",
            "Metode 'hitung_luas' belum diimplementasikan untuk Persegi.\n",
            "--------------------\n",
            "Objek: TaplakMeja\n",
            "Luas: 1.20\n",
            "--------------------\n",
            "Metode 'hitung_luas' belum diimplementasikan untuk Bentuk.\n",
            "--------------------\n",
            "Objek strtidak dapat dihitung luasnya (metode tidak ditemukan).\n"
          ]
        }
      ]
    },
    {
      "cell_type": "markdown",
      "source": [
        "## Praktikum 06: Kontrol Perilaku Polimorfik dengan isinstance()\n"
      ],
      "metadata": {
        "id": "pO0ypCCedJvQ"
      }
    },
    {
      "cell_type": "code",
      "source": [
        "# definisi kelas burung, elang, pipit\n",
        "class Burung:\n",
        "  def __init__(self, nama):\n",
        "    self.nama = nama\n",
        "  def terbang(self):\n",
        "    print(f\"{self.nama} terbang dengan cara umum\")\n",
        "  def bersuara(self):\n",
        "    print(f\"{self.nama} mengeluarkan suara burung\")\n",
        "\n",
        "class Elang(Burung):\n",
        "  def __init__(self, nama, rentang_sayap):\n",
        "    super().__init__(nama)\n",
        "    self.rentang_sayap = rentang_sayap\n",
        "\n",
        "  # override\n",
        "  def terbang(self):\n",
        "    print(f\"{self.nama} terbang tinggi melayang di angkasa\")\n",
        "  def bersuara(self):\n",
        "    print(f\"{self.nama} terbang berteriak nyaring!\")\n",
        "  # metode khusus elang\n",
        "  def berburu(self):\n",
        "    print(f\"{self.nama} sedang berburu mencari mangsa dari ketinggian\")\n",
        "\n",
        "class Pipit(Burung):\n",
        "  def __init__(self, nama, warna_bulu):\n",
        "    super().__init__(nama)\n",
        "    self.warna_bulu = warna_bulu\n",
        "\n",
        "  # override\n",
        "  def terbang(self):\n",
        "    print(f\"{self.nama}terbang cepat diantara pepohonan\")\n",
        "  # override\n",
        "  def bersuara(self):\n",
        "    print(f\"{self.nama} berkicau merdu : Cit cit!\")\n",
        "  # metode khusus burung pipit\n",
        "  def membangun_sarang(self):\n",
        "    print(f\"{self.nama} sedang memgumpulkan ranting untuk sarang.\")\n",
        "\n",
        "# fungsi yang memanfaaatkan polimorfisme dan isinstance() ---\n",
        "def interaksi_dengan_burung(burung):\n",
        "  print(f\"\\n--- Berintaraksi dengan {type(burung).__name__} bernama {getattr(burung, 'nama', 'objek tidak dikenal')}\")\n",
        "\n",
        "  # cek duli apakah objek adalah instance dari burung atau turunannya\n",
        "  if isinstance(burung, Burung):\n",
        "    burung.terbang()\n",
        "    burung.bersuara()\n",
        "\n",
        "    # menambahkan perilaku spesifik bedasarkan tipe turunan\n",
        "    if isinstance(burung, Elang):\n",
        "      print(\"-> Ini adalah Elang!\")\n",
        "      burung.berburu() # panggi metode khusus elang\n",
        "    elif isinstance(burung, Pipit):\n",
        "      print(\"-> Ini adalah Pipit!\")\n",
        "      burung.membangun_sarang() #panggil metode khusus pipit\n",
        "    else:\n",
        "      # hanya burung generik, bukan turunan spesifik yang dikenali\n",
        "      print(\"-> Ini adalah jenis burung umum(bukan Elang/Pipit).\")\n",
        "\n",
        "  else:\n",
        "    # jika objek BUKAN instance Burung sama sekali\n",
        "    print(\"->Objek ini bukan termasuk jenis Burung.\")\n",
        "  print(\"-\" * 25)\n",
        "\n",
        "\n",
        "#kode utama\n",
        "if __name__ == \"__main__\":\n",
        "  elang_sumatra = Elang(\"elang Sumatra\", 1.8)\n",
        "  pipit_rumah = Pipit(\"Pipit rumah\", \"abu-abu\")\n",
        "  merak = Burung(\"Merak\") #contoh burung lain(induk)\n",
        "  kucing_tetangga = \"Meong\" # objek non burung\n",
        "\n",
        "  koleksi_makhluk = [elang_sumatra, pipit_rumah, merak, kucing_tetangga]\n",
        "  for makhluk in koleksi_makhluk:\n",
        "    interaksi_dengan_burung(makhluk)\n"
      ],
      "metadata": {
        "colab": {
          "base_uri": "https://localhost:8080/"
        },
        "id": "8CJ0lwG5XfJe",
        "outputId": "bf04c50e-d0f0-4459-eaea-99070f8f8775"
      },
      "execution_count": null,
      "outputs": [
        {
          "output_type": "stream",
          "name": "stdout",
          "text": [
            "\n",
            "--- Berintaraksi dengan Elang bernama elang Sumatra\n",
            "elang Sumatra terbang tinggi melayang di angkasa\n",
            "elang Sumatra terbang berteriak nyaring!\n",
            "-> Ini adalah Elang!\n",
            "elang Sumatra sedang berburu mencari mangsa dari ketinggian\n",
            "-------------------------\n",
            "\n",
            "--- Berintaraksi dengan Pipit bernama Pipit rumah\n",
            "Pipit rumahterbang cepat diantara pepohonan\n",
            "Pipit rumah berkicau merdu : Cit cit!\n",
            "-> Ini adalah Pipit!\n",
            "Pipit rumah sedang memgumpulkan ranting untuk sarang.\n",
            "-------------------------\n",
            "\n",
            "--- Berintaraksi dengan Burung bernama Merak\n",
            "Merak terbang dengan cara umum\n",
            "Merak mengeluarkan suara burung\n",
            "-> Ini adalah jenis burung umum(bukan Elang/Pipit).\n",
            "-------------------------\n",
            "\n",
            "--- Berintaraksi dengan str bernama objek tidak dikenal\n",
            "->Objek ini bukan termasuk jenis Burung.\n",
            "-------------------------\n"
          ]
        }
      ]
    },
    {
      "cell_type": "markdown",
      "source": [
        "##Penugasan"
      ],
      "metadata": {
        "id": "gPSPfsxYwPNr"
      }
    },
    {
      "cell_type": "code",
      "source": [
        "class Komputer:\n",
        "    def __init__(self, merk, processor, ram_gb):\n",
        "        self.merk = merk\n",
        "        self.processor = processor\n",
        "        self.ram_gb = ram_gb\n",
        "\n",
        "    def info_spesifikasi(self):\n",
        "        print(f\"Merk: {self.merk}\")\n",
        "        print(f\"Processor: {self.processor}\")\n",
        "        print(f\"RAM: {self.ram_gb} GB\")\n",
        "\n",
        "    def jalankan_aplikasi(self, nama_aplikasi):\n",
        "        print(f\"{self.merk} menjalankan aplikasi: {nama_aplikasi}...\")\n",
        "\n",
        "    def upgrade_ram(self, tambahan_gb, tipe_ram=\"DDR4\"):\n",
        "        self.ram_gb += tambahan_gb\n",
        "        print(f\"RAM {self.merk} diupgrade sebesar {tambahan_gb} GB (Tipe: {tipe_ram}).\")\n",
        "        print(f\"Total RAM sekarang: {self.ram_gb} GB\")\n",
        "\n",
        "\n",
        "class Laptop(Komputer):\n",
        "    def __init__(self, merk, processor, ram_gb, ukuran_layar_inch, berat_kg):\n",
        "        super().__init__(merk, processor, ram_gb)\n",
        "        self.ukuran_layar_inch = ukuran_layar_inch\n",
        "        self.berat_kg = berat_kg\n",
        "\n",
        "    def info_spesifikasi(self):\n",
        "        super().info_spesifikasi()\n",
        "        print(f\"Ukuran Layar: {self.ukuran_layar_inch} inch\")\n",
        "        print(f\"Berat: {self.berat_kg} Kg\")\n",
        "\n",
        "\n",
        "class Desktop(Komputer):\n",
        "    def __init__(self, merk, processor, ram_gb, jenis_casing, monitor_external):\n",
        "        super().__init__(merk, processor, ram_gb)\n",
        "        self.jenis_casing = jenis_casing\n",
        "        self.monitor_external = monitor_external\n",
        "\n",
        "    def info_spesifikasi(self):\n",
        "        super().info_spesifikasi()\n",
        "        print(f\"Jenis Casing: {self.jenis_casing}\")\n",
        "        print(f\"Monitor External: {'Ya' if self.monitor_external else 'Tidak'}\")\n",
        "\n",
        "\n",
        "def cetak_semua_spesifikasi(daftar_komputer):\n",
        "    print(\"=== Daftar Spesifikasi Komputer ===\")\n",
        "    for komputer in daftar_komputer:\n",
        "        komputer.info_spesifikasi()\n",
        "        print(\"-\" * 25)\n",
        "\n",
        "\n",
        "# Program utama\n",
        "if __name__ == \"__main__\":\n",
        "\n",
        "    laptop1 = Laptop(\"ASUS\", \"Intel i5\", 8, 14.0, 1.5)\n",
        "    laptop2 = Laptop(\"HP\", \"Intel i7\", 16, 15.6, 2.0)\n",
        "    desktop1 = Desktop(\"Acer\", \"AMD Ryzen 5\", 16, \"Tower\", True)\n",
        "    desktop2 = Desktop(\"Lenovo\", \"Ryzen 7\", 32, \"Mini-PC\", False)\n",
        "\n",
        "    daftar = [laptop1, laptop2, desktop1, desktop2]\n",
        "\n",
        "    cetak_semua_spesifikasi(daftar)\n",
        "\n",
        "    print(\"\\n=== Simulasi Overloading ===\")\n",
        "    laptop1.upgrade_ram(4)\n",
        "    desktop2.upgrade_ram(8, \"DDR5\")\n"
      ],
      "metadata": {
        "colab": {
          "base_uri": "https://localhost:8080/"
        },
        "id": "GVbHDT60ue_j",
        "outputId": "07e1be0a-72d6-4f3d-b507-ed45357e0b13"
      },
      "execution_count": 14,
      "outputs": [
        {
          "output_type": "stream",
          "name": "stdout",
          "text": [
            "=== Daftar Spesifikasi Komputer ===\n",
            "Merk: ASUS\n",
            "Processor: Intel i5\n",
            "RAM: 8 GB\n",
            "Ukuran Layar: 14.0 inch\n",
            "Berat: 1.5 Kg\n",
            "-------------------------\n",
            "Merk: HP\n",
            "Processor: Intel i7\n",
            "RAM: 16 GB\n",
            "Ukuran Layar: 15.6 inch\n",
            "Berat: 2.0 Kg\n",
            "-------------------------\n",
            "Merk: Acer\n",
            "Processor: AMD Ryzen 5\n",
            "RAM: 16 GB\n",
            "Jenis Casing: Tower\n",
            "Monitor External: Ya\n",
            "-------------------------\n",
            "Merk: Lenovo\n",
            "Processor: Ryzen 7\n",
            "RAM: 32 GB\n",
            "Jenis Casing: Mini-PC\n",
            "Monitor External: Tidak\n",
            "-------------------------\n",
            "\n",
            "=== Simulasi Overloading ===\n",
            "RAM ASUS diupgrade sebesar 4 GB (Tipe: DDR4).\n",
            "Total RAM sekarang: 12 GB\n",
            "RAM Lenovo diupgrade sebesar 8 GB (Tipe: DDR5).\n",
            "Total RAM sekarang: 40 GB\n"
          ]
        }
      ]
    },
    {
      "cell_type": "code",
      "source": [
        "!pip install pylint graphviz"
      ],
      "metadata": {
        "colab": {
          "base_uri": "https://localhost:8080/"
        },
        "id": "z6W0xiq3ufjm",
        "outputId": "d018c14d-63cc-480e-d953-09064f469246"
      },
      "execution_count": 7,
      "outputs": [
        {
          "output_type": "stream",
          "name": "stdout",
          "text": [
            "Collecting pylint\n",
            "  Downloading pylint-3.3.7-py3-none-any.whl.metadata (12 kB)\n",
            "Requirement already satisfied: graphviz in /usr/local/lib/python3.11/dist-packages (0.20.3)\n",
            "Collecting astroid<=3.4.0.dev0,>=3.3.8 (from pylint)\n",
            "  Downloading astroid-3.3.10-py3-none-any.whl.metadata (4.4 kB)\n",
            "Requirement already satisfied: dill>=0.3.6 in /usr/local/lib/python3.11/dist-packages (from pylint) (0.3.7)\n",
            "Collecting isort!=5.13,<7,>=4.2.5 (from pylint)\n",
            "  Downloading isort-6.0.1-py3-none-any.whl.metadata (11 kB)\n",
            "Collecting mccabe<0.8,>=0.6 (from pylint)\n",
            "  Downloading mccabe-0.7.0-py2.py3-none-any.whl.metadata (5.0 kB)\n",
            "Requirement already satisfied: platformdirs>=2.2 in /usr/local/lib/python3.11/dist-packages (from pylint) (4.3.8)\n",
            "Collecting tomlkit>=0.10.1 (from pylint)\n",
            "  Downloading tomlkit-0.13.2-py3-none-any.whl.metadata (2.7 kB)\n",
            "Downloading pylint-3.3.7-py3-none-any.whl (522 kB)\n",
            "\u001b[2K   \u001b[90m━━━━━━━━━━━━━━━━━━━━━━━━━━━━━━━━━━━━━━━━\u001b[0m \u001b[32m522.6/522.6 kB\u001b[0m \u001b[31m9.7 MB/s\u001b[0m eta \u001b[36m0:00:00\u001b[0m\n",
            "\u001b[?25hDownloading astroid-3.3.10-py3-none-any.whl (275 kB)\n",
            "\u001b[2K   \u001b[90m━━━━━━━━━━━━━━━━━━━━━━━━━━━━━━━━━━━━━━━━\u001b[0m \u001b[32m275.4/275.4 kB\u001b[0m \u001b[31m20.8 MB/s\u001b[0m eta \u001b[36m0:00:00\u001b[0m\n",
            "\u001b[?25hDownloading isort-6.0.1-py3-none-any.whl (94 kB)\n",
            "\u001b[2K   \u001b[90m━━━━━━━━━━━━━━━━━━━━━━━━━━━━━━━━━━━━━━━━\u001b[0m \u001b[32m94.2/94.2 kB\u001b[0m \u001b[31m7.2 MB/s\u001b[0m eta \u001b[36m0:00:00\u001b[0m\n",
            "\u001b[?25hDownloading mccabe-0.7.0-py2.py3-none-any.whl (7.3 kB)\n",
            "Downloading tomlkit-0.13.2-py3-none-any.whl (37 kB)\n",
            "Installing collected packages: tomlkit, mccabe, isort, astroid, pylint\n",
            "Successfully installed astroid-3.3.10 isort-6.0.1 mccabe-0.7.0 pylint-3.3.7 tomlkit-0.13.2\n"
          ]
        }
      ]
    },
    {
      "cell_type": "code",
      "source": [
        "%%writefile mahasiswa.py\n",
        "class Komputer:\n",
        "    def __init__(self, merk, processor, ram_gb):\n",
        "        self.merk = merk\n",
        "        self.processor = processor\n",
        "        self.ram_gb = ram_gb\n",
        "\n",
        "    def info_spesifikasi(self):\n",
        "        print(f\"Merk: {self.merk}\")\n",
        "        print(f\"Processor: {self.processor}\")\n",
        "        print(f\"RAM: {self.ram_gb} GB\")\n",
        "\n",
        "    def jalankan_aplikasi(self, nama_aplikasi):\n",
        "        print(f\"{self.merk} menjalankan aplikasi: {nama_aplikasi}...\")\n",
        "\n",
        "    def upgrade_ram(self, tambahan_gb, tipe_ram=\"DDR4\"):\n",
        "        self.ram_gb += tambahan_gb\n",
        "        print(f\"RAM {self.merk} diupgrade sebesar {tambahan_gb} GB (Tipe: {tipe_ram}).\")\n",
        "        print(f\"Total RAM sekarang: {self.ram_gb} GB\")\n",
        "\n",
        "\n",
        "class Laptop(Komputer):\n",
        "    def __init__(self, merk, processor, ram_gb, ukuran_layar_inch, berat_kg):\n",
        "        super().__init__(merk, processor, ram_gb)\n",
        "        self.ukuran_layar_inch = ukuran_layar_inch\n",
        "        self.berat_kg = berat_kg\n",
        "\n",
        "    def info_spesifikasi(self):\n",
        "        super().info_spesifikasi()\n",
        "        print(f\"Ukuran Layar: {self.ukuran_layar_inch} inch\")\n",
        "        print(f\"Berat: {self.berat_kg} Kg\")\n",
        "\n",
        "\n",
        "class Desktop(Komputer):\n",
        "    def __init__(self, merk, processor, ram_gb, jenis_casing, monitor_external):\n",
        "        super().__init__(merk, processor, ram_gb)\n",
        "        self.jenis_casing = jenis_casing\n",
        "        self.monitor_external = monitor_external\n",
        "\n",
        "    def info_spesifikasi(self):\n",
        "        super().info_spesifikasi()\n",
        "        print(f\"Jenis Casing: {self.jenis_casing}\")\n",
        "        print(f\"Monitor External: {'Ya' if self.monitor_external else 'Tidak'}\")\n",
        "\n",
        "\n",
        "def cetak_semua_spesifikasi(daftar_komputer):\n",
        "    print(\"=== Daftar Spesifikasi Komputer ===\")\n",
        "    for komputer in daftar_komputer:\n",
        "        komputer.info_spesifikasi()\n",
        "        print(\"-\" * 25)\n",
        "\n",
        "\n",
        "# Program utama\n",
        "if __name__ == \"__main__\":\n",
        "    laptop1 = Laptop(\"ASUS\", \"Intel i5\", 8, 14.0, 1.5)\n",
        "    laptop2 = Laptop(\"HP\", \"Intel i7\", 16, 15.6, 2.0)\n",
        "    desktop1 = Desktop(\"Acer\", \"AMD Ryzen 5\", 16, \"Tower\", True)\n",
        "    desktop2 = Desktop(\"Lenovo\", \"Ryzen 7\", 32, \"Mini-PC\", False)\n",
        "\n",
        "    daftar = [laptop1, laptop2, desktop1, desktop2]\n",
        "\n",
        "    cetak_semua_spesifikasi(daftar)\n",
        "\n",
        "    print(\"\\n=== Simulasi Overloading ===\")\n",
        "    laptop1.upgrade_ram(4)\n",
        "    desktop2.upgrade_ram(8, \"DDR5\")\n",
        "\n"
      ],
      "metadata": {
        "colab": {
          "base_uri": "https://localhost:8080/"
        },
        "id": "tRh6VAlcvAea",
        "outputId": "2ff494fc-0952-4902-d096-d3b81f487002"
      },
      "execution_count": 8,
      "outputs": [
        {
          "output_type": "stream",
          "name": "stdout",
          "text": [
            "Overwriting mahasiswa.py\n"
          ]
        }
      ]
    },
    {
      "cell_type": "code",
      "source": [
        "!pyreverse -o png -p MahasiswaDiagram mahasiswa.py"
      ],
      "metadata": {
        "colab": {
          "base_uri": "https://localhost:8080/"
        },
        "id": "CvEMs30YvFpx",
        "outputId": "4e7f5146-371b-4a13-accd-b943954d2b7e"
      },
      "execution_count": 9,
      "outputs": [
        {
          "output_type": "stream",
          "name": "stdout",
          "text": [
            "Format png is not supported natively. Pyreverse will try to generate it using Graphviz...\n"
          ]
        }
      ]
    },
    {
      "cell_type": "code",
      "source": [
        "from IPython.display import Image\n",
        "Image(\"classes_MahasiswaDiagram.png\")\n"
      ],
      "metadata": {
        "colab": {
          "base_uri": "https://localhost:8080/",
          "height": 362
        },
        "id": "_-HWsWW3vOdk",
        "outputId": "225d97e9-ac07-4c12-e5e3-5c4411443365"
      },
      "execution_count": 10,
      "outputs": [
        {
          "output_type": "execute_result",
          "data": {
            "image/png": "[encoded data removed]",
            "text/plain": [
              "<IPython.core.display.Image object>"
            ]
          },
          "metadata": {},
          "execution_count": 10
        }
      ]
    },
    {
      "cell_type": "code",
      "source": [
        "!install_software(self, *args)"
      ],
      "metadata": {
        "id": "IB1JokuIvTyQ",
        "outputId": "8b71b692-43a9-4125-b757-f735f174c1dd",
        "colab": {
          "base_uri": "https://localhost:8080/"
        }
      },
      "execution_count": 12,
      "outputs": [
        {
          "output_type": "stream",
          "name": "stdout",
          "text": [
            "/bin/bash: -c: line 1: syntax error near unexpected token `self,'\n",
            "/bin/bash: -c: line 1: `install_software(self, *args)'\n"
          ]
        }
      ]
    },
    {
      "cell_type": "code",
      "source": [],
      "metadata": {
        "id": "934c1wfR3rVi"
      },
      "execution_count": null,
      "outputs": []
    }
  ]
}