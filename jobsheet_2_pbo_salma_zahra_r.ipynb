{
  "nbformat": 4,
  "nbformat_minor": 0,
  "metadata": {
    "colab": {
      "provenance": [],
      "include_colab_link": true
    },
    "kernelspec": {
      "name": "python3",
      "display_name": "Python 3"
    },
    "language_info": {
      "name": "python"
    }
  },
  "cells": [
    {
      "cell_type": "markdown",
      "metadata": {
        "id": "view-in-github",
        "colab_type": "text"
      },
      "source": [
        "<a href=\"https://colab.research.google.com/github/salmazahrara/2025_PBO_TI1A/blob/main/jobsheet_2_pbo_salma_zahra_r.ipynb\" target=\"_parent\"><img src=\"https://colab.research.google.com/assets/colab-badge.svg\" alt=\"Open In Colab\"/></a>"
      ]
    },
    {
      "cell_type": "code",
      "source": [
        "def tambah(a, b):\n",
        "  return a + b\n",
        "\n",
        "hasil = tambah(3, 5)\n",
        "print(hasil) # Output: 8"
      ],
      "metadata": {
        "colab": {
          "base_uri": "https://localhost:8080/"
        },
        "id": "UZefIFWnZoq7",
        "outputId": "e5d803ee-97ec-4066-86e6-297d2761b8a6"
      },
      "execution_count": null,
      "outputs": [
        {
          "output_type": "stream",
          "name": "stdout",
          "text": [
            "8\n"
          ]
        }
      ]
    },
    {
      "cell_type": "code",
      "source": [
        "class Mahasiswa:\n",
        "    def  init (self, nama, nim):\n",
        "        self.nama = nama\n",
        "        self.nim = nim\n",
        "    def tampilkan_info(self):\n",
        "        print(f\"Nama: {self.nama}, NIM: {self.nim}\")"
      ],
      "metadata": {
        "id": "CaBD_aNIZono"
      },
      "execution_count": null,
      "outputs": []
    },
    {
      "cell_type": "code",
      "source": [
        "class Persegi:\n",
        "  def __init__(self, sisi):\n",
        "    self.sisi = sisi\n",
        "\n",
        "  def luas(self):\n",
        "    return self.sisi ** 2\n",
        "\n",
        "p = Persegi(4)\n",
        "print(p.luas())  # Output: 16"
      ],
      "metadata": {
        "colab": {
          "base_uri": "https://localhost:8080/"
        },
        "id": "6CJ_pnHQZolA",
        "outputId": "740b6a65-9f51-409e-903d-949d60e2a863"
      },
      "execution_count": null,
      "outputs": [
        {
          "output_type": "stream",
          "name": "stdout",
          "text": [
            "16\n"
          ]
        }
      ]
    },
    {
      "cell_type": "markdown",
      "source": [
        "Praktikum 1"
      ],
      "metadata": {
        "id": "PE9o97NnapVh"
      }
    },
    {
      "cell_type": "code",
      "source": [
        "# Fungsi Built-in\n",
        "# Fungsi print() adalah contoh fungsi built-in untuk mencetak output\n",
        "print(\"Ini adalah contoh fungsi built-in\")\n",
        "\n",
        "# Fungsi len() adalah contoh fungsi built-in untuk menghitung panjang suatu objek\n",
        "kata = \"Pemrograman\"\n",
        "panjang_kata = len(kata)\n",
        "print(f\"Panjang kata '{kata}' adalah: {panjang_kata}\")\n",
        "\n",
        "# Fungsi max() adalah contoh fungsi built-in untuk mencari nilai maksimum dari sebuah daftar\n",
        "angka = [10, 5, 30, 40, 25]\n",
        "nilai_max = max(angka)\n",
        "print(f\"Nilai maksimum dalam daftar {angka} adalah: {nilai_max}\")\n",
        "\n",
        "# Fungsi User-Defined\n",
        "# Fungsi dengan satu parameter (Menerima satu nilai input)\n",
        "def cetak_kuadrat(angka):\n",
        "   # Menghitung kuadrat dari angka yang diterima sebagai parameter\n",
        "   print(f\"Kuadrat dari {angka} adalah: {angka ** 2}\")\n",
        "\n",
        "# Fungsi dengan beberapa parameter (Menerima lebih dari satu nilai input)\n",
        "def hitung_luas_persegi_panjang(panjang, lebar):\n",
        "   # Menghitung luas persegi panjang\n",
        "   return panjang * lebar\n",
        "# Fungsi dengan beberapa tipe parameter (Menerima berbagai jenis data)\n",
        "def info_mahasiswa(nama, umur, ipk):\n",
        "   # Mencetak informasi mahasiswa\n",
        "   print(f\"Nama: {nama}, Umur: {umur}, IPK: {ipk}\")\n",
        "\n",
        "# Fungsi tanpa return value (Non-return value)\n",
        "def sapa_pengguna(nama):\n",
        "   # Fungsi ini hanya mencetak sapaan tanpa mengembalikan nilai\n",
        "   print(f\"Halo, {nama}! Selamat datang di dunia Python.\")\n",
        "\n",
        "# Fungsi dengan return value\n",
        "def hitung_keliling_persegi(sisi):\n",
        "   # Mengembalikan keliling persegi\n",
        "   return 4 * sisi\n",
        "\n",
        "# Pemanggilan fungsi dengan satu parameter\n",
        "cetak_kuadrat(5)\n",
        "\n",
        "# Pemanggilan fungsi dengan beberapa parameter\n",
        "luas = hitung_luas_persegi_panjang(10, 5)\n",
        "print(f\"Luas persegi panjang: {luas}\")\n",
        "\n",
        "# Pemanggilan fungsi dengan beberapa tipe parameter\n",
        "info_mahasiswa(\"Budi\", 22, 3.8)\n",
        "\n",
        "# Pemanggilan fungsi tanpa return value\n",
        "sapa_pengguna(\"Andi\")\n",
        "\n",
        "# Pemanggilan fungsi dengan return value\n",
        "keliling = hitung_keliling_persegi(5)\n",
        "print(f\"Keliling persegi dengan sisi 5 adalah: {keliling}\")"
      ],
      "metadata": {
        "colab": {
          "base_uri": "https://localhost:8080/"
        },
        "id": "R-p3ae40ZoiY",
        "outputId": "611363b6-5729-4fa3-cab8-bcda86df8348"
      },
      "execution_count": null,
      "outputs": [
        {
          "output_type": "stream",
          "name": "stdout",
          "text": [
            "Ini adalah contoh fungsi built-in\n",
            "Panjang kata 'Pemrograman' adalah: 11\n",
            "Nilai maksimum dalam daftar [10, 5, 30, 40, 25] adalah: 40\n",
            "Kuadrat dari 5 adalah: 25\n",
            "Luas persegi panjang: 50\n",
            "Nama: Budi, Umur: 22, IPK: 3.8\n",
            "Halo, Andi! Selamat datang di dunia Python.\n",
            "Keliling persegi dengan sisi 5 adalah: 20\n"
          ]
        }
      ]
    },
    {
      "cell_type": "markdown",
      "source": [
        "Praktikum 2"
      ],
      "metadata": {
        "id": "K7kSu9CAMLy8"
      }
    },
    {
      "cell_type": "code",
      "execution_count": null,
      "metadata": {
        "colab": {
          "base_uri": "https://localhost:8080/"
        },
        "id": "10RpKgxXKV-l",
        "outputId": "5af35582-265a-41f6-a767-b042a8e2fe71"
      },
      "outputs": [
        {
          "output_type": "stream",
          "name": "stdout",
          "text": [
            "Luas persegi dengan sisi 5 adalah: 25\n",
            "Luas persegi panjang dengan panjang 10 dan lebar 5 adalah: 50\n",
            "Luas lingkaran dengan jari-jari 7 adalah: 153.86\n"
          ]
        }
      ],
      "source": [
        "# File utama main.py yang mengimpor modul geometri.py\n",
        "# Mengimpor modul geometri\n",
        "import geometri as meong\n",
        "def main():\n",
        "    # Menggunakan fungsi dari modul meong\n",
        "    luas_persegi = meong.hitung_luas_persegi(5)\n",
        "    print(f\"Luas persegi dengan sisi 5 adalah: {luas_persegi}\")\n",
        "\n",
        "    luas_persegi_panjang = meong.hitung_luas_persegi_panjang(10, 5)\n",
        "    print(f\"Luas persegi panjang dengan panjang 10 dan lebar 5 adalah: {luas_persegi_panjang}\")\n",
        "\n",
        "    luas_lingkaran = meong.hitung_luas_lingkaran(7)\n",
        "    print(f\"Luas lingkaran dengan jari-jari 7 adalah: {luas_lingkaran}\")\n",
        "\n",
        "if __name__ == \"__main__\":\n",
        "    main()"
      ]
    },
    {
      "cell_type": "code",
      "source": [
        "# Modul geometri.py berisi fungsi terkait geometri\n",
        "def hitung_luas_persegi(sisi):\n",
        "   return sisi * sisi\n",
        "def hitung_luas_persegi_panjang(panjang, lebar):\n",
        "   return panjang * lebar\n",
        "\n",
        "def hitung_luas_lingkaran(jari_jari):\n",
        "   return 3.14 * (jari_jari ** 2)\n",
        "\n",
        "def hello_pray():\n",
        "   return \"Echo hallo pray\""
      ],
      "metadata": {
        "id": "Ro9z3B2xRR1S"
      },
      "execution_count": null,
      "outputs": []
    },
    {
      "cell_type": "markdown",
      "source": [
        "Praktikum 3"
      ],
      "metadata": {
        "id": "Z7PrU3LJardn"
      }
    },
    {
      "cell_type": "code",
      "source": [
        "# Kelas Buku untuk merepresentasikan buku di perpustakaan\n",
        "class Buku:\n",
        "   def __init__(self, judul, pengarang, tahun_terbit):\n",
        "       self.judul = judul\n",
        "       self.pengarang = pengarang\n",
        "       self.tahun_terbit = tahun_terbit\n",
        "       self.status = \"Tersedia\" # Status buku, default adalah Tersedia\n",
        "\n",
        "   def tampilkan_info(self):\n",
        "       print(f\"Judul: {self.judul}\")\n",
        "       print(f\"Pengarang: {self.pengarang}\")\n",
        "       print(f\"Tahun Terbit: {self.tahun_terbit}\")\n",
        "       print(f\"Status: {self.status}\")\n",
        "\n",
        "   def pinjam(self):\n",
        "       if self.status == \"Tersedia\":\n",
        "           self.status = \"Dipinjam\"\n",
        "           print(f\"Buku '{self.judul}' telah dipinjam.\")\n",
        "       else:\n",
        "           print(f\"Buku '{self.judul}' sedang dipinjam.\")\n",
        "\n",
        "   def kembalikan(self):\n",
        "       if self.status == \"Dipinjam\":\n",
        "           self.status = \"Tersedia\"\n",
        "           print(f\"Buku '{self.judul}' telah dikembalikan.\")\n",
        "       else:\n",
        "           print(f\"Buku '{self.judul}' tidak sedang dipinjam.\")\n",
        "\n",
        "# Membuat objek dari kelas Buku\n",
        "buku1 = Buku(\"Pemrograman Python\", \"John Doe\", 2021)\n",
        "buku2 = Buku(\"Data Science untuk Pemula\", \"Jane Smith\", 2020)\n",
        "\n",
        "# Menggunakan metode objek Buku\n",
        "buku1.tampilkan_info()\n",
        "buku2.pinjam()\n",
        "\n",
        "# Mengubah status buku dan menampilkan informasi\n",
        "buku2.kembalikan()\n",
        "buku1.pinjam()\n",
        "buku1.tampilkan_info()\n",
        "\n",
        "# Kelas Mahasiswa untuk merepresentasikan Mahasiswa dalam kelas\n",
        "\n",
        "# Definisi kelas\n",
        "class Mahasiswa:\n",
        "   # Konstruktor (__init__) untuk menginisialisasi atribut objek\n",
        "   def __init__(self, nama, nim, umur):\n",
        "       self.nama = nama # Atribut objek nama\n",
        "       self.nim = nim   # Atribut objek nim\n",
        "       self.umur = umur # Atribut objek umur\n",
        "\n",
        "   # Metode untuk menampilkan informasi mahasiswa\n",
        "   def tampilkan_info(self):\n",
        "       print(f\"Nama: {self.nama}\")\n",
        "       print(f\"NIM: {self.nim}\")\n",
        "       print(f\"Umur: {self.umur} tahun\")\n",
        "\n",
        "   # Metode untuk merubah umur mahasiswa\n",
        "   def ubah_umur(self, umur_baru):\n",
        "       self.umur = umur_baru\n",
        "\n",
        "# Membuat objek (instance) dari kelas Mahasiswa\n",
        "mahasiswa1 = Mahasiswa(\"Andi\", \"12345\", 20)\n",
        "mahasiswa2 = Mahasiswa(\"Budi\", \"67890\", 22)\n",
        "\n",
        "# Menggunakan metode dari kelas Mahasiswa\n",
        "mahasiswa1.tampilkan_info()\n",
        "print() # Baris kosong\n",
        "mahasiswa2.tampilkan_info()\n",
        "\n",
        "# Mengubah umur mahasiswa1 menggunakan metode ubah_umur\n",
        "mahasiswa1.ubah_umur(21)\n",
        "\n",
        "# Menampilkan info mahasiswa setelah umur diubah\n",
        "print(\"\\nSetelah mengubah umur mahasiswa1:\")\n",
        "mahasiswa1.tampilkan_info()\n"
      ],
      "metadata": {
        "colab": {
          "base_uri": "https://localhost:8080/"
        },
        "id": "nscUIHN5atDk",
        "outputId": "b4e6a7d8-128a-4041-a42c-fa99504af64c"
      },
      "execution_count": null,
      "outputs": [
        {
          "output_type": "stream",
          "name": "stdout",
          "text": [
            "Judul: Pemrograman Python\n",
            "Pengarang: John Doe\n",
            "Tahun Terbit: 2021\n",
            "Status: Tersedia\n",
            "Buku 'Data Science untuk Pemula' telah dipinjam.\n",
            "Buku 'Data Science untuk Pemula' telah dikembalikan.\n",
            "Buku 'Pemrograman Python' telah dipinjam.\n",
            "Judul: Pemrograman Python\n",
            "Pengarang: John Doe\n",
            "Tahun Terbit: 2021\n",
            "Status: Dipinjam\n",
            "Nama: Andi\n",
            "NIM: 12345\n",
            "Umur: 20 tahun\n",
            "\n",
            "Nama: Budi\n",
            "NIM: 67890\n",
            "Umur: 22 tahun\n",
            "\n",
            "Setelah mengubah umur mahasiswa1:\n",
            "Nama: Andi\n",
            "NIM: 12345\n",
            "Umur: 21 tahun\n"
          ]
        }
      ]
    },
    {
      "cell_type": "markdown",
      "source": [
        "Praktikum 4"
      ],
      "metadata": {
        "id": "owXskLrOau4h"
      }
    },
    {
      "cell_type": "code",
      "source": [
        "# Kelas untuk menjelaskan atribut dan metode dalam kelas\n",
        "class Mobil:\n",
        "   def __init__(self, merk, warna, tahun, harga):\n",
        "       # Atribut yang dimiliki oleh objek Mobil\n",
        "       self.merk = merk\n",
        "       self.warna = warna\n",
        "       self.tahun = tahun\n",
        "       self.harga = harga\n",
        "\n",
        "   # Fungsi tanpa return value, hanya mencetak informasi\n",
        "   def tampilkan_info(self):\n",
        "       print(f\"Mobil {self.merk} berwarna {self.warna}, tahun {self.tahun}, harga: Rp {self.harga}\")\n",
        "\n",
        "   # Fungsi dengan satu parameter\n",
        "   def diskon(self, persen_diskon):\n",
        "       # Menghitung harga setelah diskon\n",
        "       diskon_harga = self.harga * (persen_diskon / 100)\n",
        "       harga_setelah_diskon = self.harga - diskon_harga\n",
        "       print(f\"Harga setelah diskon {persen_diskon}%: Rp {harga_setelah_diskon}\")\n",
        "       # Tidak mengembalikan nilai, hanya mencetak harga setelah diskon\n",
        "\n",
        "   # Fungsi dengan return value, menghitung usia mobil berdasarkan tahun\n",
        "   def hitung_usia(self, tahun_sekarang):\n",
        "       usia = tahun_sekarang - self.tahun\n",
        "       return usia\n",
        "\n",
        "   # Fungsi dengan beberapa parameter\n",
        "   def perbarui_harga(self, harga_baru, tahun_baru):\n",
        "       self.harga = harga_baru\n",
        "       self.tahun = tahun_baru\n",
        "       print(f\"Harga dan tahun mobil {self.merk} diperbarui menjadi Rp {self.harga} dan tahun {self.tahun}\")\n",
        "\n",
        "# Membuat objek mobil\n",
        "mobil1 = Mobil(\"Toyota\", \"Hitam\", 2015, 300000000)\n",
        "mobil2 = Mobil(\"Honda\", \"Merah\", 2018, 250000000)\n",
        "\n",
        "# Menggunakan metode tanpa return value\n",
        "mobil1.tampilkan_info()\n",
        "mobil2.tampilkan_info()\n",
        "\n",
        "# Menggunakan metode dengan satu parameter (diskon)\n",
        "mobil1.diskon(10)\n",
        "mobil2.diskon(15)\n",
        "\n",
        "# Menggunakan metode dengan return value (hitung usia mobil)\n",
        "usia_mobil1 = mobil1.hitung_usia(2025)\n",
        "usia_mobil2 = mobil2.hitung_usia(2025)\n",
        "\n",
        "print(f\"Usia mobil1 pada tahun 2025: {usia_mobil1} tahun\")\n",
        "print(f\"Usia mobil2 pada tahun 2025: {usia_mobil2} tahun\")\n",
        "\n",
        "# Menggunakan metode dengan beberapa parameter (perbarui harga dan tahun)\n",
        "mobil1.perbarui_harga(280000000, 2022)\n",
        "mobil2.perbarui_harga(240000000, 2021)\n"
      ],
      "metadata": {
        "colab": {
          "base_uri": "https://localhost:8080/"
        },
        "id": "ok-8RR6wawGH",
        "outputId": "b6ea1496-c84c-4620-d097-451640e64cb8"
      },
      "execution_count": null,
      "outputs": [
        {
          "output_type": "stream",
          "name": "stdout",
          "text": [
            "Mobil Toyota berwarna Hitam, tahun 2015, harga: Rp 300000000\n",
            "Mobil Honda berwarna Merah, tahun 2018, harga: Rp 250000000\n",
            "Harga setelah diskon 10%: Rp 270000000.0\n",
            "Harga setelah diskon 15%: Rp 212500000.0\n",
            "Usia mobil1 pada tahun 2025: 10 tahun\n",
            "Usia mobil2 pada tahun 2025: 7 tahun\n",
            "Harga dan tahun mobil Toyota diperbarui menjadi Rp 280000000 dan tahun 2022\n",
            "Harga dan tahun mobil Honda diperbarui menjadi Rp 240000000 dan tahun 2021\n"
          ]
        }
      ]
    },
    {
      "cell_type": "markdown",
      "source": [
        "TUGAS NOMER 3"
      ],
      "metadata": {
        "id": "v2g1YJADuCmM"
      }
    },
    {
      "cell_type": "code",
      "source": [
        "import jadwal_pelajaran\n",
        "\n",
        "def main():\n",
        "    jadwal = {}\n",
        "    print(jadwal_pelajaran.hello_pray())\n",
        "\n",
        "    print(jadwal_pelajaran.tambah_jadwal(jadwal, \"Senin\", \"Matematika\", \"08:00\"))\n",
        "    print(jadwal_pelajaran.tambah_jadwal(jadwal, \"Senin\", \"Fisika\", \"10:00\"))\n",
        "    print(jadwal_pelajaran.lihat_jadwal(jadwal, \"Senin\"))\n",
        "    print(jadwal_pelajaran.hapus_jadwal(jadwal, \"Senin\", \"Matematika\"))\n",
        "    print(jadwal_pelajaran.lihat_jadwal(jadwal, \"Senin\"))\n",
        "\n",
        "if __name__ == \"__main__\":\n",
        "    main()"
      ],
      "metadata": {
        "colab": {
          "base_uri": "https://localhost:8080/"
        },
        "id": "klQ7kugbuFTL",
        "outputId": "d060f15c-6d75-45fc-c0fc-f73f68e36edb"
      },
      "execution_count": 6,
      "outputs": [
        {
          "output_type": "stream",
          "name": "stdout",
          "text": [
            "Echo hallo pray\n",
            "Jadwal Matematika pada Senin jam 08:00 telah ditambahkan.\n",
            "Jadwal Fisika pada Senin jam 10:00 telah ditambahkan.\n",
            "Jadwal untuk Senin:\n",
            "- Matematika jam 08:00\n",
            "- Fisika jam 10:00\n",
            "Jadwal Matematika pada Senin telah dihapus.\n",
            "Jadwal untuk Senin:\n",
            "- Fisika jam 10:00\n"
          ]
        }
      ]
    },
    {
      "cell_type": "code",
      "source": [
        "def tambah_jadwal(jadwal, hari, mata_kuliah, jam):\n",
        "    jadwal.setdefault(hari, []).append((mata_kuliah, jam))\n",
        "    return f\"Jadwal {mata_kuliah} pada {hari} jam {jam} telah ditambahkan.\"\n",
        "\n",
        "def lihat_jadwal(jadwal, hari):\n",
        "    if hari in jadwal:\n",
        "        return f\"Jadwal untuk {hari}:\\n\" + \"\\n\".join(f\"- {mk} jam {jam}\" for mk, jam in jadwal[hari])\n",
        "    return f\"Tidak ada jadwal untuk {hari}.\"\n",
        "\n",
        "def hapus_jadwal(jadwal, hari, mata_kuliah):\n",
        "    if hari in jadwal:\n",
        "        jadwal[hari] = [(mk, jam) for mk, jam in jadwal[hari] if mk != mata_kuliah]\n",
        "        return f\"Jadwal {mata_kuliah} pada {hari} telah dihapus.\"\n",
        "    return f\"Tidak ada jadwal untuk {hari}.\"\n",
        "\n",
        "def hello_pray():\n",
        "   return \"Echo hallo pray\""
      ],
      "metadata": {
        "id": "-afAlrkmRYBu"
      },
      "execution_count": null,
      "outputs": []
    },
    {
      "cell_type": "code",
      "source": [],
      "metadata": {
        "id": "n_WB3mVm1LYP"
      },
      "execution_count": null,
      "outputs": []
    }
  ]
}