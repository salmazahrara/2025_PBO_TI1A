{
  "nbformat": 4,
  "nbformat_minor": 0,
  "metadata": {
    "colab": {
      "provenance": [],
      "authorship_tag": "ABX9TyOYXSLInSS08Ec1TuWxcVp+",
      "include_colab_link": true
    },
    "kernelspec": {
      "name": "python3",
      "display_name": "Python 3"
    },
    "language_info": {
      "name": "python"
    }
  },
  "cells": [
    {
      "cell_type": "markdown",
      "metadata": {
        "id": "view-in-github",
        "colab_type": "text"
      },
      "source": [
        "<a href=\"https://colab.research.google.com/github/salmazahrara/2025_PBO_TI1A/blob/main/Jobsheet4_PBO_Salma_Zahra_Ramadhani.ipynb\" target=\"_parent\"><img src=\"https://colab.research.google.com/assets/colab-badge.svg\" alt=\"Open In Colab\"/></a>"
      ]
    },
    {
      "cell_type": "markdown",
      "source": [
        "Praktikum 1: Inheritance Dasar"
      ],
      "metadata": {
        "id": "K_vuWRWI6BFT"
      }
    },
    {
      "cell_type": "code",
      "execution_count": null,
      "metadata": {
        "id": "YhsgD6zvkMJi",
        "colab": {
          "base_uri": "https://localhost:8080/"
        },
        "outputId": "c04ad318-fb50-4a7b-ad9a-463d21d8d59f"
      },
      "outputs": [
        {
          "output_type": "stream",
          "name": "stdout",
          "text": [
            "Ini adalah mobil Tesla Model S berwarna Merah.\n",
            "Mesin kendaraan Tesla Model S dinyalakan.\n",
            "Merk mobil: Tesla Model S\n"
          ]
        }
      ],
      "source": [
        "#Kelas Induk\n",
        "class Kendaraan:\n",
        "    def __init__(self, merk):\n",
        "        self.merk = merk\n",
        "    def mulai_mesin(self):\n",
        "        print(f\"Mesin kendaraan {self.merk} dinyalakan.\")\n",
        "\n",
        "#kelas anak (mewarisi dari kendaraan)\n",
        "class Mobil(Kendaraan):\n",
        "    def __init__(self, merk, warna):\n",
        "        #memanggil __init__ kelas induk (akan dibahas di praktikum 2)\n",
        "        #untuk sekarang, kita set merk secara manual\n",
        "        self.merk = merk #mewarisi 'merk' tapi di-set ulang disini\n",
        "        self.warna = warna\n",
        "\n",
        "    def info_mobil(self):\n",
        "        print(f\"Ini adalah mobil {self.merk} berwarna {self.warna}.\")\n",
        "\n",
        "# ---Kode Utama ---\n",
        "if __name__ == \"__main__\":\n",
        "    mobil_tesla = Mobil(\"Tesla Model S\", \"Merah\")\n",
        "\n",
        "    #Memanggil metode dari kelas anak\n",
        "    mobil_tesla.info_mobil()\n",
        "\n",
        "    #Memanggil metode yang diwarisi dari kelas induk\n",
        "    mobil_tesla.mulai_mesin()\n",
        "\n",
        "    #Mengakses atribut yang diwarisi (dan di-set di anak)\n",
        "    print(f\"Merk mobil: {mobil_tesla.merk}\")"
      ]
    },
    {
      "cell_type": "markdown",
      "source": [
        "Praktikum 02: Menggunakan super() dan konstruktor\n"
      ],
      "metadata": {
        "id": "3mvVDkmr8o8f"
      }
    },
    {
      "cell_type": "code",
      "source": [
        "#Kelas Induk\n",
        "class Person:\n",
        "    def __init__(self, nama, usia):\n",
        "        print(f\"(Memanggil __init__ Person untuk '{nama}')\")\n",
        "        self.nama = nama\n",
        "        self.usia = usia\n",
        "    def perkenalkan_diri(self):\n",
        "          print(f\"Halo, nama saya {self.nama}, usia saya {self.usia} tahun.\")\n",
        "\n",
        "#Kelas Anak (mewarisi dari Person)\n",
        "class Student(Person):\n",
        "    def __init__ (self, nama, usia, student_id, jurusan):\n",
        "        print(f\"(Memanggil __init__ student_id untuk '{nama}')\")\n",
        "        #Memanggil __init__ dari kelas Person untuk inisialisasi nama dan usia\n",
        "\n",
        "        super().__init__(nama, usia)\n",
        "        #Menambahkan atribut khusus Student\n",
        "        self.student_id = student_id\n",
        "        self.jurusan = jurusan\n",
        "        print(f\"(Inisialisasi atribut Student selesai untuk '{nama}')\")\n",
        "\n",
        "    def info_akademik(self):\n",
        "        print(f\"ID Mahasiswa: {self.student_id}\")\n",
        "        print(f\"Jurusan: {self.jurusan}\")\n",
        "\n",
        "    #Overrride perkenalkan_diri untuk menambahkan info student\n",
        "    def perkenalkan_diri(self):\n",
        "        super().perkenalkan_diri() #panggil person\n",
        "        print(f\"Saya adalah mahasiswa dengan ID {self.student_id}, jurusan{self.jurusan}.\")\n",
        "\n",
        "# --kode utama--\n",
        "if __name__ == \"__main__\":\n",
        "    #membuat objek person\n",
        "    dosen = Person(\"Pak Anton\", 45)\n",
        "    print(\"-\" * 20)\n",
        "    dosen.perkenalkan_diri()\n",
        "    print(\"\\n\"+\"=\" * 30 +\"\\n\")\n",
        "\n",
        "    #membuat objek Student\n",
        "    mahasiswa = Student(\"Dewi\", 20, \"MHS001\", \"Teknik Komputer\")\n",
        "    print(\"-\" * 20)\n",
        "    mahasiswa.perkenalkan_diri() #panggil versi override di Student\n",
        "    print(\"-\" * 20)\n",
        "    mahasiswa.info_akademik() #apanggil metode khusus Student\n",
        "\n",
        "    #cek atribut\n",
        "    print(f\"\\n Usia mahasiswa {mahasiswa.nama}: {mahasiswa.usia}\") #usia diwarisi dari Person"
      ],
      "metadata": {
        "colab": {
          "base_uri": "https://localhost:8080/"
        },
        "id": "X2kDME4J75G5",
        "outputId": "0cae4262-99b6-4ef2-cb72-8f8e6fa7f434"
      },
      "execution_count": null,
      "outputs": [
        {
          "output_type": "stream",
          "name": "stdout",
          "text": [
            "(Memanggil __init__ Person untuk 'Pak Anton')\n",
            "--------------------\n",
            "Halo, nama saya Pak Anton, usia saya 45 tahun.\n",
            "\n",
            "==============================\n",
            "\n",
            "(Memanggil __init__ student_id untuk 'Dewi')\n",
            "(Memanggil __init__ Person untuk 'Dewi')\n",
            "(Inisialisasi atribut Student selesai untuk 'Dewi')\n",
            "--------------------\n",
            "Halo, nama saya Dewi, usia saya 20 tahun.\n",
            "Saya adalah mahasiswa dengan ID MHS001, jurusanTeknik Komputer.\n",
            "--------------------\n",
            "ID Mahasiswa: MHS001\n",
            "Jurusan: Teknik Komputer\n",
            "\n",
            " Usia mahasiswa Dewi: 20\n"
          ]
        }
      ]
    },
    {
      "cell_type": "markdown",
      "source": [
        "Praktikum 3: Method Ocerriding dan super ()"
      ],
      "metadata": {
        "id": "_EJFJPflEgzi"
      }
    },
    {
      "cell_type": "code",
      "source": [
        "#Kelas Induk\n",
        "class Hewan:\n",
        "    def __init__(self, nama):\n",
        "        self.nama = nama\n",
        "\n",
        "    def bersuara(self):\n",
        "        print(f\"{self.nama}mengeluarkan suara generik.\")\n",
        "\n",
        "    def tampilkan_info(self):\n",
        "        print(f\"Ini adalah hewan bernama {self.nama}.\")\n",
        "\n",
        "#Kelas anak\n",
        "class Kucing(Hewan):\n",
        "    def __init__(self, nama, ras):\n",
        "        super().__init__(nama) #panggil init induk\n",
        "        self.ras = ras\n",
        "\n",
        "        #methode oveerriding untuk besuara\n",
        "    def bersuara(self):\n",
        "        print(f\"{self.nama} (Kucing) mengeong: Meow!\")\n",
        "\n",
        "        #methode overriding untuk tampilkan_info, memanggil versi infuk\n",
        "    def tampilkan_info(self):\n",
        "        super().tampilkan_info() #panggil implementasi versi induk\n",
        "        print(f\"Ini adalah kucing ras {self.ras}.\") #tambahkan info spesifik\n",
        "\n",
        "# ---- kode utama ----\n",
        "if __name__ == \"__main__\":\n",
        "    hewan_umum = Hewan(\"Makhluk\")\n",
        "    kucing_persia = Kucing(\"Puspus\", \"Persia\")\n",
        "\n",
        "    print(\"info Hewan Umum:\")\n",
        "    hewan_umum.tampilkan_info()\n",
        "    hewan_umum.bersuara()\n",
        "    print('-' * 20)\n",
        "\n",
        "    print(\"Info Kucing Persia:\")\n",
        "    kucing_persia.tampilkan_info() #akan memanggil versi Kucing\n",
        "    kucing_persia.bersuara() #akan memanggil versi kucing"
      ],
      "metadata": {
        "colab": {
          "base_uri": "https://localhost:8080/"
        },
        "id": "NQAJIv0KElLi",
        "outputId": "727d186d-2f33-45db-ddbe-6b13de0c2ad9"
      },
      "execution_count": null,
      "outputs": [
        {
          "output_type": "stream",
          "name": "stdout",
          "text": [
            "info Hewan Umum:\n",
            "Ini adalah hewan bernama Makhluk.\n",
            "Makhlukmengeluarkan suara generik.\n",
            "--------------------\n",
            "Info Kucing Persia:\n",
            "Ini adalah hewan bernama Puspus.\n",
            "Ini adalah kucing ras Persia.\n",
            "Puspus (Kucing) mengeong: Meow!\n"
          ]
        }
      ]
    },
    {
      "cell_type": "markdown",
      "source": [
        "Praktikum 4: Multi level Inhertance (Pewarisan Bertingkat)"
      ],
      "metadata": {
        "id": "QO48otPbH9Cu"
      }
    },
    {
      "cell_type": "code",
      "source": [
        "#kode induk level 1\n",
        "class Organisme:\n",
        "    def __init__(self, nama):\n",
        "        self.nama = nama\n",
        "        print(f\"Organisme '{self.nama}' diciptakan\")\n",
        "\n",
        "    def bernapas(self):\n",
        "        print(f\"{self.nama} sedang bernafas\")\n",
        "\n",
        "#kelas anak level 1 (mewarisi dari organisme)\n",
        "class Hewan (Organisme):\n",
        "    def __init__(self, nama, jenis_makanan):\n",
        "        super().__init__(nama) #panggil init dari organisme\n",
        "        self.jenis_makanan = jenis_makanan\n",
        "        print(f\"Hewan '{self.nama}' adalah {self.jenis_makanan}.\")\n",
        "\n",
        "    def bergerak(self):\n",
        "        print(f\"{self.nama} sedang bergerak.\")\n",
        "\n",
        "# kelas nak level 2 (mewarisi dari hewan)\n",
        "class Mamalia(Hewan):\n",
        "    def __init__(self, nama, jenis_makanan, jumlah_kaki):\n",
        "        super().__init__(nama, jenis_makanan) #panggil init hewan\n",
        "        self.jumlah_kaki = jumlah_kaki\n",
        "        print(f\"Mamalia '{self.nama}' memiliki {self.jumlah_kaki} kaki.\")\n",
        "\n",
        "    def menyusui(self):\n",
        "        print(f\"{self.nama} sedang menyusui\")\n",
        "\n",
        "#kode utama\n",
        "if __name__ == \"__main__\":\n",
        "    kucing = Mamalia(\"Kucing Persia\", \"Karnivora\", 4)\n",
        "    print(\"-\" * 20)\n",
        "\n",
        "    # memanggil metode dari kelas mamalia\n",
        "    kucing.menyusui()\n",
        "\n",
        "    # memanggil metode yang diwarisi dari kelas Hewan\n",
        "    kucing.bergerak()\n",
        "    print(f\"Jenis Makanan: {kucing.jenis_makanan}\")\n",
        "\n",
        "    # memanggil metode yang diwarisi dari kelas organisme\n",
        "    kucing.bernapas()\n",
        "    print(f\"Nama organisme: {kucing.nama}\")"
      ],
      "metadata": {
        "colab": {
          "base_uri": "https://localhost:8080/"
        },
        "id": "-cjLAyBRbECX",
        "outputId": "eb5b329b-292e-4ec2-9ece-200193266c0c"
      },
      "execution_count": 4,
      "outputs": [
        {
          "output_type": "stream",
          "name": "stdout",
          "text": [
            "Organisme 'Kucing Persia' diciptakan\n",
            "Hewan 'Kucing Persia' adalah Karnivora.\n",
            "Mamalia 'Kucing Persia' memiliki 4 kaki.\n",
            "--------------------\n",
            "Kucing Persia sedang menyusui\n",
            "Kucing Persia sedang bergerak.\n",
            "Jenis Makanan: Karnivora\n",
            "Kucing Persia sedang bernafas\n",
            "Nama organisme: Kucing Persia\n"
          ]
        }
      ]
    },
    {
      "cell_type": "code",
      "source": [
        "# kelas induk level 1\n",
        "class Organisme:\n",
        "    def __init__(self, nama):\n",
        "        self.nama = nama\n",
        "        print(f\"Organisme '{self.nama}' diciptakan.\")\n",
        "\n",
        "    def bernapas(self):\n",
        "        print(f\"{self.nama} sedang bernapas.\")\n",
        "\n",
        "# kelas anak level 1 (mewarisi dari Organisme)\n",
        "class Hewan(Organisme):\n",
        "    def __init__(self, nama, jenis_makanan):\n",
        "        super().__init__(nama)  # panggil init Organisme\n",
        "        self.jenis_makanan = jenis_makanan\n",
        "        print(f\"Hewan '{self.nama}' adalah {self.jenis_makanan}.\")\n",
        "\n",
        "    def bergerak(self):\n",
        "        print(f\"{self.nama} sedang bergerak.\")\n",
        "\n",
        "# kelas anak level 2 (mewarisi dari Hewan)\n",
        "class Mamalia(Hewan):\n",
        "    def __init__(self, nama, jenis_makanan, jumlah_kaki):\n",
        "        super().__init__(nama, jenis_makanan)  # panggil init Hewan\n",
        "        self.jumlah_kaki = jumlah_kaki\n",
        "        print(f\"Mamalia '{self.nama}' memiliki {self.jumlah_kaki} kaki.\")\n",
        "\n",
        "    def menyusui(self):\n",
        "        print(f\"{self.nama} sedang menyusui.\")\n",
        "\n",
        "# --- kode utama ---\n",
        "if __name__ == \"__main__\":\n",
        "    kucing = Mamalia(\"Kucing Persia\", \"Karnivora\", 4)\n",
        "    print(\"-\" * 20)\n",
        "\n",
        "    # memanggil metode dari kelas Mamalia\n",
        "    kucing.menyusui()\n",
        "\n",
        "    # memanggil metode yang diwarisi dari kelas Hewan\n",
        "    kucing.bergerak()\n",
        "    print(f\"Jenis Makanan: {kucing.jenis_makanan}\")\n",
        "\n",
        "    # memanggil metode yang diwarisi dari kelas Organisme\n",
        "    kucing.bernapas()\n",
        "    print(f\"Nama Organisme: {kucing.nama}\")\n"
      ],
      "metadata": {
        "colab": {
          "base_uri": "https://localhost:8080/"
        },
        "id": "yKl69Yy0IFF_",
        "outputId": "f1fe2ee4-cfef-428b-e592-9677badb4db0"
      },
      "execution_count": 9,
      "outputs": [
        {
          "output_type": "stream",
          "name": "stdout",
          "text": [
            "Organisme 'Kucing Persia' diciptakan.\n",
            "Hewan 'Kucing Persia' adalah Karnivora.\n",
            "Mamalia 'Kucing Persia' memiliki 4 kaki.\n",
            "--------------------\n",
            "Kucing Persia sedang menyusui.\n",
            "Kucing Persia sedang bergerak.\n",
            "Jenis Makanan: Karnivora\n",
            "Kucing Persia sedang bernapas.\n",
            "Nama Organisme: Kucing Persia\n"
          ]
        }
      ]
    },
    {
      "cell_type": "markdown",
      "source": [
        "Praktikum 5"
      ],
      "metadata": {
        "id": "BQgw_U2gYt2N"
      }
    },
    {
      "cell_type": "code",
      "source": [
        "import locale\n",
        "\n",
        "# Set locale to Indonesia for currency formatting\n",
        "try:\n",
        "    locale.setlocale(locale.LC_ALL, 'id_ID.UTF-8')\n",
        "except locale.Error:\n",
        "    try:\n",
        "        locale.setlocale(locale.LC_ALL, 'id_ID')\n",
        "    except locale.Error:\n",
        "        print(\"Locale untuk format mata uang tidak tersedia, menggunakan default (en_US.UTF-8)\")\n",
        "        locale.setlocale(locale.LC_ALL, 'en_US.UTF-8')\n",
        "\n",
        "# Fungsi helper untuk format mata uang\n",
        "def format_rupiah(angka):\n",
        "    return locale.currency(angka, grouping=True, symbol='Rp ')\n",
        "\n",
        "class Pegawai:\n",
        "    def __init__(self, nama, id_pegawai, gaji_pokok):\n",
        "        self.nama = nama\n",
        "        self.id_pegawai = id_pegawai\n",
        "        self.gaji_pokok = gaji_pokok\n",
        "\n",
        "    def hitung_gaji(self):\n",
        "        # Gaji dasar, bisa di-override\n",
        "        return self.gaji_pokok\n",
        "\n",
        "    def tampilkan_info(self):\n",
        "        print(f\"ID Pegawai: {self.id_pegawai}\")\n",
        "        print(f\"Nama      : {self.nama}\")\n",
        "        print(f\"Gaji Pokok: {format_rupiah(self.gaji_pokok)}\")\n",
        "\n",
        "# Kelas anak 1: Manager\n",
        "class Manager(Pegawai):\n",
        "    def __init__(self, nama, id_pegawai, gaji_pokok, tunjangan_jabatan):\n",
        "        super().__init__(nama, id_pegawai, gaji_pokok)\n",
        "        self.tunjangan_jabatan = tunjangan_jabatan\n",
        "\n",
        "    # Override hitung_gaji\n",
        "    def hitung_gaji(self):\n",
        "        gaji_total = super().hitung_gaji() + self.tunjangan_jabatan\n",
        "        return gaji_total\n",
        "\n",
        "    # Override tampilkan_info (memanggil versi induk)\n",
        "    def tampilkan_info(self):\n",
        "        print(\"=== Info Manager ===\")\n",
        "        super().tampilkan_info()  # Panggil info dari Pegawai\n",
        "        print(f\"Tunjangan Jabatan: {format_rupiah(self.tunjangan_jabatan)}\")\n",
        "        print(f\"Total Gaji       : {format_rupiah(self.hitung_gaji())}\")\n",
        "\n",
        "# Kelas anak 2: Staf Teknis\n",
        "class StafTeknis(Pegawai):\n",
        "    def __init__(self, nama, id_pegawai, gaji_pokok, keahlian, bonus_keahlian):\n",
        "        super().__init__(nama, id_pegawai, gaji_pokok)\n",
        "        self.keahlian = keahlian\n",
        "        self.bonus_keahlian = bonus_keahlian\n",
        "\n",
        "    # Override hitung_gaji\n",
        "    def hitung_gaji(self):\n",
        "        gaji_total = super().hitung_gaji() + self.bonus_keahlian\n",
        "        return gaji_total\n",
        "\n",
        "    # Override tampilkan_info (memanggil versi induk)\n",
        "    def tampilkan_info(self):\n",
        "        print(\"=== Info Staf Teknis ===\")\n",
        "        super().tampilkan_info()  # Panggil info dasar dari Pegawai\n",
        "        print(f\"Keahlian        : {self.keahlian}\")\n",
        "        print(f\"Bonus Keahlian  : {format_rupiah(self.bonus_keahlian)}\")\n",
        "        print(f\"Total Gaji      : {format_rupiah(self.hitung_gaji())}\")\n",
        "\n",
        "# --- Kode Utama ---\n",
        "if __name__ == \"__main__\":\n",
        "    manager1 = Manager(\"Budi Santoso\", \"M001\", 10000000, 5000000)\n",
        "    staf1 = StafTeknis(\"Citra Lestari\", \"S001\", 7000000, \"Python Programming\", 1500000)\n",
        "    pegawai_baru = Pegawai(\"Rian Saputra\", \"P005\", 5000000)  # Pegawai biasa\n",
        "\n",
        "    print(\"\\n--- Menampilkan Informasi Pegawai ---\\n\")\n",
        "\n",
        "    manager1.tampilkan_info()\n",
        "    print(\"-\" * 40)\n",
        "\n",
        "    staf1.tampilkan_info()\n",
        "    print(\"-\" * 40)\n",
        "\n",
        "    print(\"=== Info Pegawai Baru ===\")\n",
        "    pegawai_baru.tampilkan_info()\n",
        "    print(f\"Total Gaji      : {format_rupiah(pegawai_baru.hitung_gaji())}\")\n",
        "    print(\"-\" * 40)\n"
      ],
      "metadata": {
        "colab": {
          "base_uri": "https://localhost:8080/"
        },
        "id": "5v_KbRdbZqJO",
        "outputId": "a63369d1-e910-43fc-8ea1-b45fd32f2a95"
      },
      "execution_count": null,
      "outputs": [
        {
          "output_type": "stream",
          "name": "stdout",
          "text": [
            "Locale untuk format mata uang tidak tersedia, menggunakan default (en_US.UTF-8)\n",
            "\n",
            "--- Menampilkan Informasi Pegawai ---\n",
            "\n",
            "=== Info Manager ===\n",
            "ID Pegawai: M001\n",
            "Nama      : Budi Santoso\n",
            "Gaji Pokok: $10,000,000.00\n",
            "Tunjangan Jabatan: $5,000,000.00\n",
            "Total Gaji       : $15,000,000.00\n",
            "----------------------------------------\n",
            "=== Info Staf Teknis ===\n",
            "ID Pegawai: S001\n",
            "Nama      : Citra Lestari\n",
            "Gaji Pokok: $7,000,000.00\n",
            "Keahlian        : Python Programming\n",
            "Bonus Keahlian  : $1,500,000.00\n",
            "Total Gaji      : $8,500,000.00\n",
            "----------------------------------------\n",
            "=== Info Pegawai Baru ===\n",
            "ID Pegawai: P005\n",
            "Nama      : Rian Saputra\n",
            "Gaji Pokok: $5,000,000.00\n",
            "Total Gaji      : $5,000,000.00\n",
            "----------------------------------------\n"
          ]
        }
      ]
    },
    {
      "cell_type": "markdown",
      "source": [
        "Praktikum 6 Memeriksa tipe instance dengan instance()"
      ],
      "metadata": {
        "id": "7-ZnNyJdjlaB"
      }
    },
    {
      "cell_type": "code",
      "source": [
        "class BentukGeometri:\n",
        "    def __init__(self, nama_bentuk):\n",
        "        self.nama = nama_bentuk\n",
        "    def tampilkan_nama(self):\n",
        "        print(f\"Ini adalah bentuk: {self.nama}\")\n",
        "    def hitung_luas(self):\n",
        "        print(f\"Luas {self.nama} tidak dapat dihitung (generik).\")\n",
        "\n",
        "class PersegiPanjang(BentukGeometri):\n",
        "    def __init__(self, panjang, lebar):\n",
        "        super().__init__(\"PersegiPanjang\")\n",
        "        self.panjang = panjang\n",
        "        self.lebar = lebar\n",
        "    def hitung_luas(self):\n",
        "        luas = self.panjang * self.lebar\n",
        "        print(f\"Luas {self.nama}: {luas}\")\n",
        "\n",
        "class Segitiga(BentukGeometri):\n",
        "    def __init__(self, alas, tinggi):\n",
        "        super().__init__(\"Segitiga\")\n",
        "        self.alas =alas\n",
        "        self.tinggi = tinggi\n",
        "    def hitung_luas(self):\n",
        "        luas = 0.5 * self.tinggi * self.alas\n",
        "\n",
        "def proses_bentuk(bentuk):\n",
        "    print(f\"\\nmemproses objek {type(bentuk)}\")\n",
        "\n",
        "    if isinstance(bentuk, BentukGeometri):\n",
        "        bentuk.tampilkan_nama()\n",
        "        print(\"Objek ini adalah instance dari BrntukGeometri (atau turunannya).\")\n",
        "        if isinstance(bentuk, PersegiPanjang):\n",
        "            print(\"-> Onjek ini juga instance dari PersegiPanjang\")\n",
        "        elif isinstance(bentuk, Segitiga):\n",
        "            print(\"-> Objek ini juga instance dari Segitiga\")\n",
        "    else:\n",
        "      print(\"Objek ini BUKAN instance dari BentukGeometri\")\n",
        "\n",
        "    if isinstance(bentuk, str):\n",
        "        print(\"objek ini adalah string\")\n",
        "\n",
        "# Kode Utama ________---------------\n",
        "if __name__ ==\"__main__\":\n",
        "    pp = PersegiPanjang(4, 3)\n",
        "    seg = Segitiga(5,2)\n",
        "    bg = BentukGeometri(\"Lingkaran\") # contoh lain\n",
        "    teks = \"ini string\"\n",
        "\n",
        "    daftar_objek = [pp,seg,bg, teks]\n",
        "    for obj in daftar_objek:\n",
        "        proses_bentuk(obj)"
      ],
      "metadata": {
        "id": "XasNVMwJj7Le",
        "colab": {
          "base_uri": "https://localhost:8080/"
        },
        "outputId": "37dcc5df-99aa-4988-de69-fe053895beb5"
      },
      "execution_count": 8,
      "outputs": [
        {
          "output_type": "stream",
          "name": "stdout",
          "text": [
            "\n",
            "memproses objek <class '__main__.PersegiPanjang'>\n",
            "Ini adalah bentuk: PersegiPanjang\n",
            "Objek ini adalah instance dari BrntukGeometri (atau turunannya).\n",
            "-> Onjek ini juga instance dari PersegiPanjang\n",
            "\n",
            "memproses objek <class '__main__.Segitiga'>\n",
            "Ini adalah bentuk: Segitiga\n",
            "Objek ini adalah instance dari BrntukGeometri (atau turunannya).\n",
            "-> Objek ini juga instance dari Segitiga\n",
            "\n",
            "memproses objek <class '__main__.BentukGeometri'>\n",
            "Ini adalah bentuk: Lingkaran\n",
            "Objek ini adalah instance dari BrntukGeometri (atau turunannya).\n",
            "\n",
            "memproses objek <class 'str'>\n",
            "Objek ini BUKAN instance dari BentukGeometri\n",
            "objek ini adalah string\n"
          ]
        }
      ]
    },
    {
      "cell_type": "markdown",
      "source": [
        "Tugas Jobsheet 4"
      ],
      "metadata": {
        "id": "b_U15NSqj42_"
      }
    },
    {
      "cell_type": "code",
      "source": [
        "# Kelas Induk: Mahasiswa\n",
        "class Mahasiswa:\n",
        "    def __init__(self, nama, nim, ipk):\n",
        "        # Inisialisasi atribut dasar\n",
        "        self.nama = nama\n",
        "        self.nim = nim\n",
        "        self.ipk = ipk\n",
        "\n",
        "    def tampilkan_info(self):\n",
        "        # Menampilkan informasi dasar mahasiswa\n",
        "        print(f\"Nama : {self.nama}\")\n",
        "        print(f\"NIM  : {self.nim}\")\n",
        "        print(f\"IPK  : {self.ipk:.2f}\")\n",
        "\n",
        "    def hitung_predikat(self):\n",
        "        # Menentukan predikat berdasarkan IPK\n",
        "        if self.ipk >= 3.5:\n",
        "            print(\"Predikat : Dengan Pujian\")\n",
        "        elif self.ipk >= 3.0:\n",
        "            print(\"Predikat : Sangat Memuaskan\")\n",
        "        elif self.ipk >= 2.5:\n",
        "            print(\"Predikat : Memuaskan\")\n",
        "        else:\n",
        "            print(\"Predikat : Cukup\")\n",
        "\n",
        "# Kelas Anak 1: MahasiswaSarjana\n",
        "class MahasiswaSarjana(Mahasiswa):\n",
        "    def __init__(self, nama, nim, ipk, semester, sks_lulus):\n",
        "        # Meneruskan atribut ke kelas induk\n",
        "        super().__init__(nama, nim, ipk)\n",
        "        # Menambahkan atribut khusus sarjana\n",
        "        self.semester = semester\n",
        "        self.sks_lulus = sks_lulus\n",
        "\n",
        "    def tampilkan_info(self):\n",
        "        # Menampilkan informasi dasar + tambahan untuk sarjana\n",
        "        print(\"=== Data Mahasiswa Sarjana ===\")\n",
        "        super().tampilkan_info()\n",
        "        print(f\"Semester   : {self.semester}\")\n",
        "        print(f\"SKS Lulus  : {self.sks_lulus}\")\n",
        "        self.hitung_predikat()\n",
        "\n",
        "# Kelas Anak 2: MahasiswaMagister\n",
        "class MahasiswaMagister(Mahasiswa):\n",
        "    def __init__(self, nama, nim, ipk, judul_tesis, nama_pembimbing):\n",
        "        # Meneruskan atribut ke kelas induk\n",
        "        super().__init__(nama, nim, ipk)\n",
        "        # Menambahkan atribut khusus magister\n",
        "        self.judul_tesis = judul_tesis\n",
        "        self.nama_pembimbing = nama_pembimbing\n",
        "\n",
        "    def tampilkan_info(self):\n",
        "        # Menampilkan informasi dasar + tambahan untuk magister\n",
        "        print(\"=== Data Mahasiswa Magister ===\")\n",
        "        super().tampilkan_info()\n",
        "        print(f\"Judul Tesis  : {self.judul_tesis}\")\n",
        "        print(f\"Pembimbing   : {self.nama_pembimbing}\")\n",
        "        self.hitung_predikat()\n",
        "\n",
        "# --- Program Utama ---\n",
        "if __name__ == \"__main__\":\n",
        "    # Membuat objek mahasiswa sarjana\n",
        "    sarjana1 = MahasiswaSarjana(\"Andi Saputra\", \"20231001\", 3.7, 6, 110)\n",
        "\n",
        "    # Membuat objek mahasiswa magister\n",
        "    magister1 = MahasiswaMagister(\"Bunga Citra\", \"20241001\", 3.2, \"Analisis Big Data\", \"Dr. Rina Marlina\")\n",
        "\n",
        "    # Menampilkan data mahasiswa sarjana\n",
        "    sarjana1.tampilkan_info()\n",
        "    print(\"-\" * 40)\n",
        "\n",
        "    # Menampilkan data mahasiswa magister\n",
        "    magister1.tampilkan_info()\n",
        "    print(\"-\" * 40)\n"
      ],
      "metadata": {
        "colab": {
          "base_uri": "https://localhost:8080/"
        },
        "id": "MkbtC-iGjnPD",
        "outputId": "82f02b72-f4b2-4ab7-9c73-614ea33d27d7"
      },
      "execution_count": 14,
      "outputs": [
        {
          "output_type": "stream",
          "name": "stdout",
          "text": [
            "=== Data Mahasiswa Sarjana ===\n",
            "Nama : Andi Saputra\n",
            "NIM  : 20231001\n",
            "IPK  : 3.70\n",
            "Semester   : 6\n",
            "SKS Lulus  : 110\n",
            "Predikat : Dengan Pujian\n",
            "----------------------------------------\n",
            "=== Data Mahasiswa Magister ===\n",
            "Nama : Bunga Citra\n",
            "NIM  : 20241001\n",
            "IPK  : 3.20\n",
            "Judul Tesis  : Analisis Big Data\n",
            "Pembimbing   : Dr. Rina Marlina\n",
            "Predikat : Sangat Memuaskan\n",
            "----------------------------------------\n"
          ]
        }
      ]
    },
    {
      "cell_type": "code",
      "source": [],
      "metadata": {
        "id": "e9JI5yV1jqrg"
      },
      "execution_count": null,
      "outputs": []
    },
    {
      "cell_type": "markdown",
      "source": [
        "Penugasan Jobsheet 4"
      ],
      "metadata": {
        "id": "iAMMqy75k5_C"
      }
    },
    {
      "cell_type": "code",
      "source": [
        "# Kelas induk\n",
        "class Mahasiswa:\n",
        "    def __init__(self, nama, nim, ipk):\n",
        "        self.nama = nama\n",
        "        self.nim = nim\n",
        "        self.ipk = ipk\n",
        "\n",
        "    def tampilkan_info(self):\n",
        "        print(f\"Nama: {self.nama}\")\n",
        "        print(f\"NIM: {self.nim}\")\n",
        "        print(f\"IPK: {self.ipk}\")\n",
        "\n",
        "    def hitung_predikat(self):\n",
        "        if self.ipk >= 3.5:\n",
        "            print(\"Predikat: Dengan Pujian\")\n",
        "        elif self.ipk >= 3.0:\n",
        "            print(\"Predikat: Sangat Memuaskan\")\n",
        "        elif self.ipk >= 2.5:\n",
        "            print(\"Predikat: Memuaskan\")\n",
        "        else :\n",
        "            print(\"Predikat: Cukup\")\n",
        "\n",
        "# Kelas Anak I\n",
        "class MahasiswaSarjana(Mahasiswa):\n",
        "    def __init__(self, nama, nim, ipk, semester, sks_lulus):\n",
        "        super().__init__(nama, nim, ipk)\n",
        "        self.semester = semester\n",
        "        self.sks_lulus = sks_lulus\n",
        "\n",
        "    def tampilkan_info(self):\n",
        "        print(\" --- Data Mahasiswa Sarjana ---\")\n",
        "        super().tampilkan_info()\n",
        "        print(f\"Semester: {self.semester}\")\n",
        "        print(f\"SKS Lulus: {self.sks_lulus}\")\n",
        "        self.hitung_predikat()\n",
        "\n",
        "# Kelas anak II\n",
        "class MahasiswaMagister(Mahasiswa):\n",
        "    def __init__(self, nama, nim, ipk, judul_tesis, nama_pembimbing):\n",
        "        super().__init__(nama, nim, ipk)\n",
        "        self.judul_tesis = judul_tesis\n",
        "        self.nama_pembimbing = nama_pembimbing\n",
        "\n",
        "    def tampilkan_info(self):\n",
        "        print(\"--- Data Mahasiswa Magister ---\")\n",
        "        super().tampilkan_info()\n",
        "        print(f\"Judul Tesis: {self.judul_tesis}\")\n",
        "        print(f\"Pembimbing : {self.nama_pembimbing}\")\n",
        "        self.hitung_predikat()\n",
        "\n",
        "# -----Kode Utama\n",
        "if __name__ == \"__main__\":\n",
        "    sarjana01 = MahasiswaSarjana(\"Fauzi Mufid\", \"1011150620\", 3.7, 6, 110)\n",
        "    sarjana02 = MahasiswaSarjana(\"Aprilia Anna\", \"957687603\", 2.9, 7, 114)\n",
        "\n",
        "    magister01 = MahasiswaMagister(\"Zahra Ramadhani\", \"8807051020\", 3.2, \"Analisis Big Data\", \"Dr. Eni Dwi Wardihani\")\n",
        "    magister02 = MahasiswaMagister(\"Ammar Widyantoro\", \"9735362577\",2.45, \"Analisis Cara Menanam Cabai pada Polybag\",\"Dr. Adiba Yunita\")\n",
        "    sarjana01.tampilkan_info()\n",
        "    print(\"=\" * 50)\n",
        "\n",
        "    sarjana02.tampilkan_info()\n",
        "    print(\"=\" * 50)\n",
        "\n",
        "    magister01.tampilkan_info()\n",
        "    print(\"=\" * 50)\n",
        "\n",
        "    magister02.tampilkan_info()\n",
        "    print(\"=\" * 50)\n",
        "\n",
        "\n"
      ],
      "metadata": {
        "colab": {
          "base_uri": "https://localhost:8080/"
        },
        "id": "eblEKqMylZQG",
        "outputId": "fb5e0ffa-2779-4218-82e8-73b7f28219f8"
      },
      "execution_count": 22,
      "outputs": [
        {
          "output_type": "stream",
          "name": "stdout",
          "text": [
            " --- Data Mahasiswa Sarjana ---\n",
            "Nama: Fauzi Mufid\n",
            "NIM: 1011150620\n",
            "IPK: 3.7\n",
            "Semester: 6\n",
            "SKS Lulus: 110\n",
            "Predikat: Dengan Pujian\n",
            "==================================================\n",
            " --- Data Mahasiswa Sarjana ---\n",
            "Nama: Aprilia Anna\n",
            "NIM: 957687603\n",
            "IPK: 2.9\n",
            "Semester: 7\n",
            "SKS Lulus: 114\n",
            "Predikat: Memuaskan\n",
            "==================================================\n",
            "--- Data Mahasiswa Magister ---\n",
            "Nama: Zahra Ramadhani\n",
            "NIM: 8807051020\n",
            "IPK: 3.2\n",
            "Judul Tesis: Analisis Big Data\n",
            "Pembimbing : Dr. Eni Dwi Wardihani\n",
            "Predikat: Sangat Memuaskan\n",
            "==================================================\n",
            "--- Data Mahasiswa Magister ---\n",
            "Nama: Ammar Widyantoro\n",
            "NIM: 9735362577\n",
            "IPK: 2.45\n",
            "Judul Tesis: Analisis Cara Menanam Cabai pada Polybag\n",
            "Pembimbing : Dr. Adiba Yunita\n",
            "Predikat: Cukup\n",
            "==================================================\n"
          ]
        }
      ]
    },
    {
      "cell_type": "code",
      "source": [],
      "metadata": {
        "id": "hZlX9vsKrpY3"
      },
      "execution_count": null,
      "outputs": []
    }
  ]
}